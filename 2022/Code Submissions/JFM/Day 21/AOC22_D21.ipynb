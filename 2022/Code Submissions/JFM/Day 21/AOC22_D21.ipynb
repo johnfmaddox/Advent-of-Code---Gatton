{
 "cells": [
  {
   "cell_type": "markdown",
   "metadata": {},
   "source": [
    "**--- Part One ---**"
   ]
  },
  {
   "cell_type": "code",
   "execution_count": 2,
   "metadata": {},
   "outputs": [
    {
     "data": {
      "text/plain": [
       "160274622817992.0"
      ]
     },
     "execution_count": 2,
     "metadata": {},
     "output_type": "execute_result"
    }
   ],
   "source": [
    "## Select input data case\n",
    "## Note: this assumes a plain textfile named `input_{case}` is located in the same folder as this notebook\n",
    "case = \"example\" # <- input_example\n",
    "case = \"jfm\"\n",
    "case = \"gatton\"\n",
    "\n",
    "# verbose output\n",
    "verbose = False\n",
    "\n",
    "# Read input\n",
    "with open(f'input_{case}','r') as f:\n",
    "    input_lines = f.readlines()\n",
    "\n",
    "monkeys = {}\n",
    "for l in input_lines:\n",
    "    split_line = l.strip().split(':')\n",
    "    name = split_line[0]\n",
    "    monkeys[name] = {}\n",
    "    try:\n",
    "        monkeys[name]['num']=int(split_line[1])\n",
    "        monkeys[name]['operation'] = None\n",
    "    except:\n",
    "        monkeys[name]['num']=None\n",
    "        monkeys[name]['operation'] = split_line[1].strip().split()\n",
    "\n",
    "def calc(name):\n",
    "    if monkeys[name]['num']:\n",
    "        return monkeys[name]['num']\n",
    "    else:\n",
    "        oplist=monkeys[name]['operation']\n",
    "        calc(oplist[0])\n",
    "        calc(oplist[2])\n",
    "        eval_str = f'{calc(oplist[0])} {oplist[1]} {calc(oplist[2])}'\n",
    "        monkeys[name]['num'] = eval(eval_str)\n",
    "        return monkeys[name]['num']\n",
    "\n",
    "calc('root')\n"
   ]
  },
  {
   "cell_type": "markdown",
   "metadata": {},
   "source": [
    "**--- Part Two ---**"
   ]
  },
  {
   "cell_type": "code",
   "execution_count": 18,
   "metadata": {},
   "outputs": [
    {
     "data": {
      "text/plain": [
       "{'root': {'num': None, 'operation': ['pppw', '+', 'sjmn']},\n",
       " 'dbpl': {'num': 5, 'operation': None},\n",
       " 'cczh': {'num': None, 'operation': ['sllz', '+', 'lgvd']},\n",
       " 'zczc': {'num': 2, 'operation': None},\n",
       " 'ptdq': {'num': 2, 'operation': ['humn', '-', 'dvpt']},\n",
       " 'dvpt': {'num': 3, 'operation': None},\n",
       " 'lfqf': {'num': 4, 'operation': None},\n",
       " 'humn': {'num': 5, 'operation': None},\n",
       " 'ljgn': {'num': 2, 'operation': None},\n",
       " 'sjmn': {'num': None, 'operation': ['drzm', '*', 'dbpl']},\n",
       " 'sllz': {'num': 4, 'operation': None},\n",
       " 'pppw': {'num': None, 'operation': ['cczh', '/', 'lfqf']},\n",
       " 'lgvd': {'num': None, 'operation': ['ljgn', '*', 'ptdq']},\n",
       " 'drzm': {'num': None, 'operation': ['hmdt', '-', 'zczc']},\n",
       " 'hmdt': {'num': 32, 'operation': None}}"
      ]
     },
     "execution_count": 18,
     "metadata": {},
     "output_type": "execute_result"
    }
   ],
   "source": [
    "monkeys"
   ]
  },
  {
   "cell_type": "code",
   "execution_count": null,
   "metadata": {},
   "outputs": [],
   "source": []
  }
 ],
 "metadata": {
  "kernelspec": {
   "display_name": "Python 3.8.5 ('base')",
   "language": "python",
   "name": "python3"
  },
  "language_info": {
   "codemirror_mode": {
    "name": "ipython",
    "version": 3
   },
   "file_extension": ".py",
   "mimetype": "text/x-python",
   "name": "python",
   "nbconvert_exporter": "python",
   "pygments_lexer": "ipython3",
   "version": "3.9.7"
  },
  "orig_nbformat": 4,
  "vscode": {
   "interpreter": {
    "hash": "47ce790959d06f949a97dbfd06fd621572f81796024eefcf2465e31e88535f2a"
   }
  }
 },
 "nbformat": 4,
 "nbformat_minor": 2
}
