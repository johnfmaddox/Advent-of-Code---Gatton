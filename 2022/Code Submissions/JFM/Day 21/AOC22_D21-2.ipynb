{
 "cells": [
  {
   "cell_type": "code",
   "execution_count": 1,
   "metadata": {},
   "outputs": [],
   "source": [
    "## Select input data case\n",
    "## Note: this assumes a plain textfile named `input_{case}` is located in the same folder as this notebook\n",
    "case = \"example\" # <- input_example\n",
    "case = \"jfm\"\n",
    "case = \"gatton\"\n",
    "\n",
    "# verbose output\n",
    "verbose = False\n",
    "\n",
    "# Read input\n",
    "with open(f'input_{case}','r') as f:\n",
    "    input_lines = f.readlines()\n",
    "\n",
    "monkeys = {}\n",
    "for l in input_lines:\n",
    "    split_line = l.strip().split(':')\n",
    "    name = split_line[0]\n",
    "    monkeys[name] = {}\n",
    "    try:\n",
    "        monkeys[name]['num']=int(split_line[1])\n",
    "        monkeys[name]['operation'] = None\n",
    "    except:\n",
    "        monkeys[name]['num']=None\n",
    "        monkeys[name]['operation'] = split_line[1].strip().split()\n",
    "\n",
    "def calc(name):\n",
    "    if name == 'humn':\n",
    "        return 'x'\n",
    "    if monkeys[name]['num']:\n",
    "        return monkeys[name]['num']\n",
    "    else:\n",
    "        oplist=monkeys[name]['operation']\n",
    "        # calc(oplist[0])\n",
    "        # calc(oplist[2])\n",
    "        eval_str = f'({calc(oplist[0])} {oplist[1]} {calc(oplist[2])})'\n",
    "        try:\n",
    "            monkeys[name]['num'] = int(eval(eval_str))\n",
    "            return monkeys[name]['num']\n",
    "        except (ValueError,NameError):\n",
    "            return eval_str\n",
    "\n",
    "monkeys['root']['operation'][1] = '-'"
   ]
  },
  {
   "cell_type": "markdown",
   "metadata": {},
   "source": [
    "**--- Part Two ---**"
   ]
  },
  {
   "cell_type": "code",
   "execution_count": 2,
   "metadata": {},
   "outputs": [
    {
     "data": {
      "text/plain": [
       "'(((217 + ((((71994954081260 - (((((((((2 * ((((4 * ((((((((((((680 + (((((((((((276 + ((((195 + (745 + (((28 * (659 + (((2 * (((475 + (((((((441 + (2 * ((((387 + ((x - 217) * 40)) + 99) / 2) - 361))) / 5) + 926) / 3) - 73) * 2) + 421)) / 2) - 899)) - 389) / 7))) - 2) * 2))) / 8) - 705) * 3)) / 2) + 232) + 263) / 9) - 330) * 29) - 531) * 2) + 92) / 2)) + 276) / 5) - 216) * 3) + 177) / 2) - 966) * 2) - 978) / 4) + 961)) + 24) / 4) - 873)) + 713) * 3) - 507) / 9) + 41) * 14) - 381) / 3)) + 550) + 575) / 2)) * 3) - 52282191702834)'"
      ]
     },
     "execution_count": 2,
     "metadata": {},
     "output_type": "execute_result"
    }
   ],
   "source": [
    "expr = calc('root')\n",
    "expr"
   ]
  },
  {
   "cell_type": "code",
   "execution_count": 3,
   "metadata": {},
   "outputs": [
    {
     "data": {
      "text/plain": [
       "[3087390115721]"
      ]
     },
     "execution_count": 3,
     "metadata": {},
     "output_type": "execute_result"
    }
   ],
   "source": [
    "\n",
    "from sympy import symbols, solve\n",
    "x = symbols('x')\n",
    "solve(expr,x)"
   ]
  },
  {
   "cell_type": "code",
   "execution_count": null,
   "metadata": {},
   "outputs": [],
   "source": []
  }
 ],
 "metadata": {
  "kernelspec": {
   "display_name": "Python 3.8.5 ('base')",
   "language": "python",
   "name": "python3"
  },
  "language_info": {
   "codemirror_mode": {
    "name": "ipython",
    "version": 3
   },
   "file_extension": ".py",
   "mimetype": "text/x-python",
   "name": "python",
   "nbconvert_exporter": "python",
   "pygments_lexer": "ipython3",
   "version": "3.8.5 (default, Sep  3 2020, 21:29:08) [MSC v.1916 64 bit (AMD64)]"
  },
  "orig_nbformat": 4,
  "vscode": {
   "interpreter": {
    "hash": "47ce790959d06f949a97dbfd06fd621572f81796024eefcf2465e31e88535f2a"
   }
  }
 },
 "nbformat": 4,
 "nbformat_minor": 2
}
