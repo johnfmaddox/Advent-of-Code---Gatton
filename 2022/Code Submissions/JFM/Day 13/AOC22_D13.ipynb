{
 "cells": [
  {
   "cell_type": "markdown",
   "metadata": {},
   "source": [
    "**--- Part One ---**"
   ]
  },
  {
   "cell_type": "code",
   "execution_count": 27,
   "metadata": {},
   "outputs": [],
   "source": [
    "## Select input data case\n",
    "## Note: this assumes a plain textfile named `input_{case}` is located in the same folder as this notebook\n",
    "case = \"example\" # <- input_example\n",
    "case = \"jfm\"\n",
    "case = \"gatton\"\n",
    "\n",
    "# verbose output\n",
    "verbose = False\n",
    "\n",
    "import numpy as np\n",
    "from itertools import cycle\n",
    "\n",
    "# Read input\n",
    "with open(f'input_{case}','r') as f:\n",
    "    input_lines = f.readlines()\n",
    "\n",
    "import numpy as np\n",
    "\n",
    "pairs = []\n",
    "pair = []\n",
    "for line in input_lines:\n",
    "    line = line.strip()\n",
    "    if len(line) == 0:\n",
    "        continue\n",
    "    pair.append(eval(line))\n",
    "    if len(pair) == 2:\n",
    "        pairs.append(pair)\n",
    "        pair = []\n",
    "\n",
    "def pair_order(p1,p2,indent=0, verbose=False):\n",
    "    if verbose: print(f'{\" \"*indent}- points: {p1=}\\n{\" \"*indent}          {p2=}')\n",
    "    t1 = type(p1)\n",
    "    t2 = type(p2)\n",
    "    if not t1 == t2:\n",
    "        if not isinstance(p1,list):\n",
    "            if verbose: print(f'{\" \"*indent}  {p1} -> [{p1}]') \n",
    "            p1 = [p1]\n",
    "        if not isinstance(p2,list):\n",
    "            if verbose: print(f'{\" \"*indent}  {p2} -> [{p2}]')\n",
    "            p2 = [p2]\n",
    "    if isinstance(p1, list) and isinstance(p2, list):\n",
    "        if verbose: print(f'{\" \"*indent}  lists: {p1}\\n         {p2}')\n",
    "        try:\n",
    "            if len(p1) == 0 and len(p2)>0:\n",
    "                if verbose: print(f'{\" \"*indent}        exiting')\n",
    "                return True\n",
    "            else:\n",
    "                completed = None\n",
    "                for i,v1 in enumerate(p1):\n",
    "                    if verbose: print(f'checking: {p1[i]}   vs   {p2[i]}')\n",
    "                    check = pair_order(p1[i],p2[i],indent = indent+2, verbose=verbose)\n",
    "                    if verbose: print(f'check result: {check}')\n",
    "                    if check is None:\n",
    "                        continue\n",
    "                    else: \n",
    "                        return check\n",
    "                if len(p1)>len(p2):\n",
    "                    return False\n",
    "                elif len(p1)<len(p2):\n",
    "                    return True\n",
    "                else:\n",
    "                    return completed\n",
    "        except IndexError:\n",
    "            if verbose: print('returning False due to IndexError')\n",
    "            return False\n",
    "    elif isinstance(p1,int) and isinstance(p2,int):\n",
    "        if verbose: print(f'{\" \"*indent}  checking: {p1} < {p2}')\n",
    "        if p1 < p2:\n",
    "            return True\n",
    "        elif p1 > p2:\n",
    "            return False\n",
    "    else:\n",
    "        print('invalid condition')"
   ]
  },
  {
   "cell_type": "code",
   "execution_count": 30,
   "metadata": {},
   "outputs": [
    {
     "name": "stdout",
     "output_type": "stream",
     "text": [
      "5659\n"
     ]
    }
   ],
   "source": [
    "total = 0\n",
    "results = []\n",
    "for idx,pair in enumerate(pairs):\n",
    "    right_order=pair_order(pair[0],pair[1])\n",
    "    if right_order or right_order is None:\n",
    "        right_order = True\n",
    "        total += idx+1\n",
    "    results.append(right_order)\n",
    "    #print(f'{pair[0]} vs {pair[1]} -> {right_order}\\n')\n",
    "print(total)"
   ]
  },
  {
   "cell_type": "markdown",
   "metadata": {},
   "source": [
    "**--- Part Two ---**"
   ]
  },
  {
   "cell_type": "code",
   "execution_count": 29,
   "metadata": {},
   "outputs": [
    {
     "data": {
      "text/plain": [
       "22110"
      ]
     },
     "execution_count": 29,
     "metadata": {},
     "output_type": "execute_result"
    }
   ],
   "source": [
    "from functools import cmp_to_key\n",
    "\n",
    "packets = []\n",
    "for pair in pairs:\n",
    "    packets.append(pair[0])\n",
    "    packets.append(pair[1])\n",
    "packets.append([[2]])\n",
    "packets.append([[6]])\n",
    "\n",
    "def compare_packets(p1,p2):\n",
    "    if pair_order(p1,p2):\n",
    "        return -1\n",
    "    else:\n",
    "        return 1\n",
    "\n",
    "compare_key = cmp_to_key(compare)\n",
    "packets = sorted(packets, key=compare_key)\n",
    "\n",
    "(packets.index([[2]])+1) * (packets.index([[6]])+1)"
   ]
  }
 ],
 "metadata": {
  "kernelspec": {
   "display_name": "Python 3.8.5 ('base')",
   "language": "python",
   "name": "python3"
  },
  "language_info": {
   "codemirror_mode": {
    "name": "ipython",
    "version": 3
   },
   "file_extension": ".py",
   "mimetype": "text/x-python",
   "name": "python",
   "nbconvert_exporter": "python",
   "pygments_lexer": "ipython3",
   "version": "3.8.5"
  },
  "orig_nbformat": 4,
  "vscode": {
   "interpreter": {
    "hash": "47ce790959d06f949a97dbfd06fd621572f81796024eefcf2465e31e88535f2a"
   }
  }
 },
 "nbformat": 4,
 "nbformat_minor": 2
}
