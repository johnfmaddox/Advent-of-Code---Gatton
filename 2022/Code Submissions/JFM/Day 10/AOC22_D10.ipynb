{
 "cells": [
  {
   "cell_type": "markdown",
   "metadata": {},
   "source": [
    "**--- Part One ---**"
   ]
  },
  {
   "cell_type": "code",
   "execution_count": 35,
   "metadata": {},
   "outputs": [
    {
     "name": "stdout",
     "output_type": "stream",
     "text": [
      "20*17=340\n",
      "60*2=120\n",
      "100*39=3900\n",
      "140*17=2380\n",
      "180*21=3780\n",
      "220*22=4840\n",
      "total: 15360\n"
     ]
    }
   ],
   "source": [
    "## Select input data case\n",
    "## Note: this assumes a plain textfile named `input_{case}` is located in the same folder as this notebook\n",
    "case = \"example\" # <- input_example\n",
    "case = \"jfm\"\n",
    "case = \"gatton\"\n",
    "\n",
    "# verbose output\n",
    "verbose = False\n",
    "\n",
    "import numpy as np\n",
    "from itertools import cycle\n",
    "\n",
    "# Read input\n",
    "with open(f'input_{case}','r') as f:\n",
    "    input_lines = f.readlines()\n",
    "\n",
    "import numpy as np\n",
    "\n",
    "instructions = [i.split() for i in input_lines]\n",
    "\n",
    "class CPU():\n",
    "    def __init__(self):\n",
    "        self.X = 1\n",
    "        self.Xhist = [self.X]\n",
    "        self.cycle = 0\n",
    "        self.n_col = 40\n",
    "        self.n_row = 6\n",
    "        self.grid = [[' ' for j in range(self.n_col)] for i in range(self.n_row)]\n",
    "        self.i = 0\n",
    "        self.j = 1\n",
    "\n",
    "    def noop(self):\n",
    "        self.cycle += 1\n",
    "        self.Xhist.append(self.X)\n",
    "\n",
    "    def addx(self,x):\n",
    "        self.noop()\n",
    "        self.X += int(x)\n",
    "        self.Xhist.append(self.X)\n",
    "\n",
    "    def draw_display(self):\n",
    "        cycle = 0\n",
    "        for i,row in enumerate(self.grid):\n",
    "            for j,val in enumerate(row):\n",
    "                if self.Xhist[cycle] in range(j-1,j+2):\n",
    "                    self.grid[i][j] = '#'\n",
    "                cycle += 1\n",
    "\n",
    "    def show(self):\n",
    "        for row in self.grid:\n",
    "            print(''.join(row))\n",
    "\n",
    "cpu = CPU()\n",
    "\n",
    "for ins in instructions:\n",
    "    if ins[0] == 'noop':\n",
    "        cpu.noop()\n",
    "    elif ins[0] == 'addx':\n",
    "        cpu.addx(ins[1])\n",
    "\n",
    "total = 0\n",
    "for i in [20,60,100,140,180,220]:\n",
    "    total += i*cpu.Xhist[i-1]\n",
    "    print(f'{i}*{cpu.Xhist[i-1]}={i*cpu.Xhist[i-1]}')\n",
    "print(f'total: {total}')"
   ]
  },
  {
   "cell_type": "markdown",
   "metadata": {},
   "source": [
    "**--- Part Two ---**"
   ]
  },
  {
   "cell_type": "code",
   "execution_count": 36,
   "metadata": {},
   "outputs": [],
   "source": [
    "cpu.draw_display()\n"
   ]
  },
  {
   "cell_type": "code",
   "execution_count": 37,
   "metadata": {},
   "outputs": [
    {
     "name": "stdout",
     "output_type": "stream",
     "text": [
      "###  #  # #    #  #   ##  ##  ####  ##  \n",
      "#  # #  # #    #  #    # #  #    # #  # \n",
      "#  # #### #    ####    # #      #  #  # \n",
      "###  #  # #    #  #    # # ##  #   #### \n",
      "#    #  # #    #  # #  # #  # #    #  # \n",
      "#    #  # #### #  #  ##   ### #### #  # \n"
     ]
    }
   ],
   "source": [
    "cpu.show()"
   ]
  },
  {
   "cell_type": "code",
   "execution_count": null,
   "metadata": {},
   "outputs": [],
   "source": []
  }
 ],
 "metadata": {
  "kernelspec": {
   "display_name": "Python 3.8.5 ('base')",
   "language": "python",
   "name": "python3"
  },
  "language_info": {
   "codemirror_mode": {
    "name": "ipython",
    "version": 3
   },
   "file_extension": ".py",
   "mimetype": "text/x-python",
   "name": "python",
   "nbconvert_exporter": "python",
   "pygments_lexer": "ipython3",
   "version": "3.9.7"
  },
  "orig_nbformat": 4,
  "vscode": {
   "interpreter": {
    "hash": "47ce790959d06f949a97dbfd06fd621572f81796024eefcf2465e31e88535f2a"
   }
  }
 },
 "nbformat": 4,
 "nbformat_minor": 2
}
