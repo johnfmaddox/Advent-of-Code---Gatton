{
 "cells": [
  {
   "cell_type": "markdown",
   "metadata": {},
   "source": [
    "**--- Part One ---**"
   ]
  },
  {
   "cell_type": "code",
   "execution_count": 91,
   "metadata": {},
   "outputs": [],
   "source": [
    "## Select input data case\n",
    "## Note: this assumes a plain textfile named `input_{case}` is located in the same folder as this notebook\n",
    "case = \"example\" # <- input_example\n",
    "# case = \"jfm\"\n",
    "# case = \"gatton\"\n",
    "\n",
    "import numpy as np\n",
    "from itertools import cycle\n",
    "import re\n",
    "from rich import print as rprint\n",
    "from rich.table import Table\n",
    "\n",
    "# Read input\n",
    "with open(f'input_{case}','r') as f:\n",
    "    input_lines = f.readlines()\n",
    "\n",
    "blueprints = []\n",
    "regex_pattern = r\".*Each ore robot costs (\\d+).*Each clay robot costs (\\d+).*Each obsidian robot costs (\\d+) ore and (\\d+) clay.*Each geode robot costs (\\d+) ore and (\\d+) obsidian.*\"\n",
    "for line in input_lines:\n",
    "    line = line.strip()\n",
    "    result = re.search(regex_pattern, line)\n",
    "    blueprint = {}\n",
    "    blueprint['ore'] = {'ore':int(result.groups(0)[0])}\n",
    "    blueprint['clay'] = {'ore':int(result.groups(0)[1])}\n",
    "    blueprint['obsidian'] = {'ore': int(result.groups(0)[2]), 'clay':int(result.groups(0)[3])}\n",
    "    blueprint['geode'] = {'ore': int(result.groups(0)[4]), 'obsidian':int(result.groups(0)[5])}\n",
    "    blueprints.append(blueprint)\n",
    "\n",
    "robots = {'ore':1, 'clay':0, 'obsidian':0, 'geode': 0}\n",
    "\n",
    "resources = {'ore':0, 'clay':0, 'obsidian':0, 'geode':0}\n",
    "\n",
    "_resource_names = 'ore clay obsidian geode'.split()\n",
    "\n",
    "quality_levels = []\n",
    "\n",
    "class Blueprint():\n",
    "    def __init__(self, input_line, minute=0, resources=None, robots=None, idx=0):\n",
    "        self.idx = idx\n",
    "        # parse input line\n",
    "        line = input_line.strip()\n",
    "        result = re.search(regex_pattern, line)\n",
    "        self.blueprint = {}\n",
    "        self.blueprint['ore'] = {'ore':int(result.groups(0)[0])}\n",
    "        self.blueprint['clay'] = {'ore':int(result.groups(0)[1])}\n",
    "        self.blueprint['obsidian'] = {'ore': int(result.groups(0)[2]), 'clay':int(result.groups(0)[3])}\n",
    "        self.blueprint['geode'] = {'ore': int(result.groups(0)[4]), 'obsidian':int(result.groups(0)[5])}\n",
    "        # add blueprint entries as attributes\n",
    "        for key in self.blueprint.keys():\n",
    "            self.__setattr__(key, self.blueprint[key])\n",
    "        # add zero'd dictionaries to track resources and built robots\n",
    "        for k in 'robots resources'.split():\n",
    "            self.__setattr__(k, self._gen_dict())\n",
    "        # start with 1 ore robot\n",
    "        self.robots['ore'] = 1 # produces -> self.robots = {'ore':1, 'clay':0, 'obsidian':0, 'geode':0}\n",
    "\n",
    "    # def options(self):\n",
    "\n",
    "    def nonambig(self):\n",
    "        # Apply non-ambigous choices\n",
    "        ## build as many geode robots as possible \n",
    "        while True:\n",
    "            if self.build_robot('geode'): continue\n",
    "            else: break\n",
    "        ## build obsidian or clay robots if possible and there aren't any existing\n",
    "        for r in 'obsidian clay'.split():\n",
    "            self.build_robot(r)\n",
    "\n",
    "    def build_options(self):\n",
    "        new_resources = self._gen_dict()\n",
    "        for resource in new_resources.keys():\n",
    "            new_resources[resource] += self.robots[resource]\n",
    "        for key,val in new_resources.items():\n",
    "            self.resources[key] += val\n",
    "        remaining = self.max_min - self.minute\n",
    "        # Apply non-ambigous choices\n",
    "        self.nonambig()\n",
    "        # Get options\n",
    "        can_build = [r for r in _resource_names if self.build_robot(r, test=True)]\n",
    "        return can_build\n",
    "\n",
    "    def build_robot(self, robot, test=False):\n",
    "        if all([\n",
    "            self.resource >= self.blueprint[robot][resource]\n",
    "            for resource in self.blueprint[robot].keys()\n",
    "        ]):\n",
    "            if test:\n",
    "                return True\n",
    "            for resource in self.blueprint[robot].keys():\n",
    "                self.resources[resource] += self.blueprint[robot][resource]\n",
    "            self.robots[robot] += 1\n",
    "        else:\n",
    "            return False\n",
    "\n",
    "    def _gen_dict(self):\n",
    "        return {r:0 for r in _resource_names}\n",
    "\n",
    "    def  __getitem__(self,idx):\n",
    "        return self.blueprint(idx)\n",
    "\n",
    "    def __repr__(self):\n",
    "        table = Table(title=f\"Blueprint {self.idx}\")\n",
    "        table.add_column(\"Robot\")\n",
    "        table.add_column(\"Resource\")\n",
    "        table.add_column(\"Quantity\")\n",
    "        table.add_row(\"ore\",\"ore\",str(self.ore[\"ore\"]))\n",
    "        table.add_row(\"clay\",\"ore\",str(self.clay[\"ore\"]))\n",
    "        table.add_row(\"obsidian\",\"ore\",str(self.obsidian[\"ore\"]))\n",
    "        table.add_row(\"\",\"clay\",str(self.obsidian[\"clay\"]))\n",
    "        table.add_row(\"geode\",\"ore\",str(self.geode[\"ore\"]))\n",
    "        table.add_row(\"\",\"obsidian\",str(self.geode[\"obsidian\"]))\n",
    "        print(table)\n",
    "        #  wreturn str(table)\n",
    "        # indent = ' '*len('Blueprint: ')\n",
    "        # return f\"Blueprint: ore: {self.ore['ore']} ore\\n{indent}clay: {self.clay}\\n{indent}obsidian: {self.obsidian}\\n{indent}geode: {self.geode}\"\n",
    "\n",
    "\n",
    "class Game():\n",
    "    def __init__(self):\n",
    "        self.blueprints = []\n",
    "        for idx,line in enumerate(input_lines):\n",
    "            self.blueprints.append(Blueprint(line,idx+1))\n",
    "        \n",
    "    # def run_blueprint(self,blueprint):\n",
    "    #     self.branches = []\n",
    "    #     for minute in range(24):\n",
    "\n",
    "\n",
    "\n",
    "\n",
    "# quality_levels            \n"
   ]
  },
  {
   "cell_type": "code",
   "execution_count": 92,
   "metadata": {},
   "outputs": [
    {
     "data": {
      "text/html": [
       "<pre style=\"white-space:pre;overflow-x:auto;line-height:normal;font-family:Menlo,'DejaVu Sans Mono',consolas,'Courier New',monospace\"><span style=\"font-style: italic\">           Blueprint 0            </span>\n",
       "┏━━━━━━━━━━┳━━━━━━━━━━┳━━━━━━━━━━┓\n",
       "┃<span style=\"font-weight: bold\"> Robot    </span>┃<span style=\"font-weight: bold\"> Resource </span>┃<span style=\"font-weight: bold\"> Quantity </span>┃\n",
       "┡━━━━━━━━━━╇━━━━━━━━━━╇━━━━━━━━━━┩\n",
       "│ ore      │ ore      │ 4        │\n",
       "│ clay     │ ore      │ 2        │\n",
       "│ obsidian │ ore      │ 3        │\n",
       "│          │ clay     │ 14       │\n",
       "│ geode    │ ore      │ 2        │\n",
       "│          │ obsidian │ 7        │\n",
       "└──────────┴──────────┴──────────┘\n",
       "</pre>\n"
      ],
      "text/plain": [
       "\u001b[3m           Blueprint 0            \u001b[0m\n",
       "┏━━━━━━━━━━┳━━━━━━━━━━┳━━━━━━━━━━┓\n",
       "┃\u001b[1m \u001b[0m\u001b[1mRobot   \u001b[0m\u001b[1m \u001b[0m┃\u001b[1m \u001b[0m\u001b[1mResource\u001b[0m\u001b[1m \u001b[0m┃\u001b[1m \u001b[0m\u001b[1mQuantity\u001b[0m\u001b[1m \u001b[0m┃\n",
       "┡━━━━━━━━━━╇━━━━━━━━━━╇━━━━━━━━━━┩\n",
       "│ ore      │ ore      │ 4        │\n",
       "│ clay     │ ore      │ 2        │\n",
       "│ obsidian │ ore      │ 3        │\n",
       "│          │ clay     │ 14       │\n",
       "│ geode    │ ore      │ 2        │\n",
       "│          │ obsidian │ 7        │\n",
       "└──────────┴──────────┴──────────┘\n"
      ]
     },
     "metadata": {},
     "output_type": "display_data"
    },
    {
     "ename": "TypeError",
     "evalue": "__repr__ returned non-string (type NoneType)",
     "output_type": "error",
     "traceback": [
      "\u001b[1;31m---------------------------------------------------------------------------\u001b[0m",
      "\u001b[1;31mTypeError\u001b[0m                                 Traceback (most recent call last)",
      "\u001b[1;32mc:\\Users\\jackm\\anaconda3\\lib\\site-packages\\IPython\\core\\formatters.py\u001b[0m in \u001b[0;36m__call__\u001b[1;34m(self, obj)\u001b[0m\n\u001b[0;32m    700\u001b[0m                 \u001b[0mtype_pprinters\u001b[0m\u001b[1;33m=\u001b[0m\u001b[0mself\u001b[0m\u001b[1;33m.\u001b[0m\u001b[0mtype_printers\u001b[0m\u001b[1;33m,\u001b[0m\u001b[1;33m\u001b[0m\u001b[1;33m\u001b[0m\u001b[0m\n\u001b[0;32m    701\u001b[0m                 deferred_pprinters=self.deferred_printers)\n\u001b[1;32m--> 702\u001b[1;33m             \u001b[0mprinter\u001b[0m\u001b[1;33m.\u001b[0m\u001b[0mpretty\u001b[0m\u001b[1;33m(\u001b[0m\u001b[0mobj\u001b[0m\u001b[1;33m)\u001b[0m\u001b[1;33m\u001b[0m\u001b[1;33m\u001b[0m\u001b[0m\n\u001b[0m\u001b[0;32m    703\u001b[0m             \u001b[0mprinter\u001b[0m\u001b[1;33m.\u001b[0m\u001b[0mflush\u001b[0m\u001b[1;33m(\u001b[0m\u001b[1;33m)\u001b[0m\u001b[1;33m\u001b[0m\u001b[1;33m\u001b[0m\u001b[0m\n\u001b[0;32m    704\u001b[0m             \u001b[1;32mreturn\u001b[0m \u001b[0mstream\u001b[0m\u001b[1;33m.\u001b[0m\u001b[0mgetvalue\u001b[0m\u001b[1;33m(\u001b[0m\u001b[1;33m)\u001b[0m\u001b[1;33m\u001b[0m\u001b[1;33m\u001b[0m\u001b[0m\n",
      "\u001b[1;32mc:\\Users\\jackm\\anaconda3\\lib\\site-packages\\IPython\\lib\\pretty.py\u001b[0m in \u001b[0;36mpretty\u001b[1;34m(self, obj)\u001b[0m\n\u001b[0;32m    375\u001b[0m                 \u001b[1;32mif\u001b[0m \u001b[0mcls\u001b[0m \u001b[1;32min\u001b[0m \u001b[0mself\u001b[0m\u001b[1;33m.\u001b[0m\u001b[0mtype_pprinters\u001b[0m\u001b[1;33m:\u001b[0m\u001b[1;33m\u001b[0m\u001b[1;33m\u001b[0m\u001b[0m\n\u001b[0;32m    376\u001b[0m                     \u001b[1;31m# printer registered in self.type_pprinters\u001b[0m\u001b[1;33m\u001b[0m\u001b[1;33m\u001b[0m\u001b[1;33m\u001b[0m\u001b[0m\n\u001b[1;32m--> 377\u001b[1;33m                     \u001b[1;32mreturn\u001b[0m \u001b[0mself\u001b[0m\u001b[1;33m.\u001b[0m\u001b[0mtype_pprinters\u001b[0m\u001b[1;33m[\u001b[0m\u001b[0mcls\u001b[0m\u001b[1;33m]\u001b[0m\u001b[1;33m(\u001b[0m\u001b[0mobj\u001b[0m\u001b[1;33m,\u001b[0m \u001b[0mself\u001b[0m\u001b[1;33m,\u001b[0m \u001b[0mcycle\u001b[0m\u001b[1;33m)\u001b[0m\u001b[1;33m\u001b[0m\u001b[1;33m\u001b[0m\u001b[0m\n\u001b[0m\u001b[0;32m    378\u001b[0m                 \u001b[1;32melse\u001b[0m\u001b[1;33m:\u001b[0m\u001b[1;33m\u001b[0m\u001b[1;33m\u001b[0m\u001b[0m\n\u001b[0;32m    379\u001b[0m                     \u001b[1;31m# deferred printer\u001b[0m\u001b[1;33m\u001b[0m\u001b[1;33m\u001b[0m\u001b[1;33m\u001b[0m\u001b[0m\n",
      "\u001b[1;32mc:\\Users\\jackm\\anaconda3\\lib\\site-packages\\IPython\\lib\\pretty.py\u001b[0m in \u001b[0;36minner\u001b[1;34m(obj, p, cycle)\u001b[0m\n\u001b[0;32m    553\u001b[0m                 \u001b[0mp\u001b[0m\u001b[1;33m.\u001b[0m\u001b[0mtext\u001b[0m\u001b[1;33m(\u001b[0m\u001b[1;34m','\u001b[0m\u001b[1;33m)\u001b[0m\u001b[1;33m\u001b[0m\u001b[1;33m\u001b[0m\u001b[0m\n\u001b[0;32m    554\u001b[0m                 \u001b[0mp\u001b[0m\u001b[1;33m.\u001b[0m\u001b[0mbreakable\u001b[0m\u001b[1;33m(\u001b[0m\u001b[1;33m)\u001b[0m\u001b[1;33m\u001b[0m\u001b[1;33m\u001b[0m\u001b[0m\n\u001b[1;32m--> 555\u001b[1;33m             \u001b[0mp\u001b[0m\u001b[1;33m.\u001b[0m\u001b[0mpretty\u001b[0m\u001b[1;33m(\u001b[0m\u001b[0mx\u001b[0m\u001b[1;33m)\u001b[0m\u001b[1;33m\u001b[0m\u001b[1;33m\u001b[0m\u001b[0m\n\u001b[0m\u001b[0;32m    556\u001b[0m         \u001b[1;32mif\u001b[0m \u001b[0mlen\u001b[0m\u001b[1;33m(\u001b[0m\u001b[0mobj\u001b[0m\u001b[1;33m)\u001b[0m \u001b[1;33m==\u001b[0m \u001b[1;36m1\u001b[0m \u001b[1;32mand\u001b[0m \u001b[0mtype\u001b[0m\u001b[1;33m(\u001b[0m\u001b[0mobj\u001b[0m\u001b[1;33m)\u001b[0m \u001b[1;32mis\u001b[0m \u001b[0mtuple\u001b[0m\u001b[1;33m:\u001b[0m\u001b[1;33m\u001b[0m\u001b[1;33m\u001b[0m\u001b[0m\n\u001b[0;32m    557\u001b[0m             \u001b[1;31m# Special case for 1-item tuples.\u001b[0m\u001b[1;33m\u001b[0m\u001b[1;33m\u001b[0m\u001b[1;33m\u001b[0m\u001b[0m\n",
      "\u001b[1;32mc:\\Users\\jackm\\anaconda3\\lib\\site-packages\\IPython\\lib\\pretty.py\u001b[0m in \u001b[0;36mpretty\u001b[1;34m(self, obj)\u001b[0m\n\u001b[0;32m    392\u001b[0m                         \u001b[1;32mif\u001b[0m \u001b[0mcls\u001b[0m \u001b[1;32mis\u001b[0m \u001b[1;32mnot\u001b[0m \u001b[0mobject\u001b[0m\u001b[0;31m \u001b[0m\u001b[0;31m\\\u001b[0m\u001b[1;33m\u001b[0m\u001b[1;33m\u001b[0m\u001b[0m\n\u001b[0;32m    393\u001b[0m                                 \u001b[1;32mand\u001b[0m \u001b[0mcallable\u001b[0m\u001b[1;33m(\u001b[0m\u001b[0mcls\u001b[0m\u001b[1;33m.\u001b[0m\u001b[0m__dict__\u001b[0m\u001b[1;33m.\u001b[0m\u001b[0mget\u001b[0m\u001b[1;33m(\u001b[0m\u001b[1;34m'__repr__'\u001b[0m\u001b[1;33m)\u001b[0m\u001b[1;33m)\u001b[0m\u001b[1;33m:\u001b[0m\u001b[1;33m\u001b[0m\u001b[1;33m\u001b[0m\u001b[0m\n\u001b[1;32m--> 394\u001b[1;33m                             \u001b[1;32mreturn\u001b[0m \u001b[0m_repr_pprint\u001b[0m\u001b[1;33m(\u001b[0m\u001b[0mobj\u001b[0m\u001b[1;33m,\u001b[0m \u001b[0mself\u001b[0m\u001b[1;33m,\u001b[0m \u001b[0mcycle\u001b[0m\u001b[1;33m)\u001b[0m\u001b[1;33m\u001b[0m\u001b[1;33m\u001b[0m\u001b[0m\n\u001b[0m\u001b[0;32m    395\u001b[0m \u001b[1;33m\u001b[0m\u001b[0m\n\u001b[0;32m    396\u001b[0m             \u001b[1;32mreturn\u001b[0m \u001b[0m_default_pprint\u001b[0m\u001b[1;33m(\u001b[0m\u001b[0mobj\u001b[0m\u001b[1;33m,\u001b[0m \u001b[0mself\u001b[0m\u001b[1;33m,\u001b[0m \u001b[0mcycle\u001b[0m\u001b[1;33m)\u001b[0m\u001b[1;33m\u001b[0m\u001b[1;33m\u001b[0m\u001b[0m\n",
      "\u001b[1;32mc:\\Users\\jackm\\anaconda3\\lib\\site-packages\\IPython\\lib\\pretty.py\u001b[0m in \u001b[0;36m_repr_pprint\u001b[1;34m(obj, p, cycle)\u001b[0m\n\u001b[0;32m    698\u001b[0m     \u001b[1;34m\"\"\"A pprint that just redirects to the normal repr function.\"\"\"\u001b[0m\u001b[1;33m\u001b[0m\u001b[1;33m\u001b[0m\u001b[0m\n\u001b[0;32m    699\u001b[0m     \u001b[1;31m# Find newlines and replace them with p.break_()\u001b[0m\u001b[1;33m\u001b[0m\u001b[1;33m\u001b[0m\u001b[1;33m\u001b[0m\u001b[0m\n\u001b[1;32m--> 700\u001b[1;33m     \u001b[0moutput\u001b[0m \u001b[1;33m=\u001b[0m \u001b[0mrepr\u001b[0m\u001b[1;33m(\u001b[0m\u001b[0mobj\u001b[0m\u001b[1;33m)\u001b[0m\u001b[1;33m\u001b[0m\u001b[1;33m\u001b[0m\u001b[0m\n\u001b[0m\u001b[0;32m    701\u001b[0m     \u001b[0mlines\u001b[0m \u001b[1;33m=\u001b[0m \u001b[0moutput\u001b[0m\u001b[1;33m.\u001b[0m\u001b[0msplitlines\u001b[0m\u001b[1;33m(\u001b[0m\u001b[1;33m)\u001b[0m\u001b[1;33m\u001b[0m\u001b[1;33m\u001b[0m\u001b[0m\n\u001b[0;32m    702\u001b[0m     \u001b[1;32mwith\u001b[0m \u001b[0mp\u001b[0m\u001b[1;33m.\u001b[0m\u001b[0mgroup\u001b[0m\u001b[1;33m(\u001b[0m\u001b[1;33m)\u001b[0m\u001b[1;33m:\u001b[0m\u001b[1;33m\u001b[0m\u001b[1;33m\u001b[0m\u001b[0m\n",
      "\u001b[1;31mTypeError\u001b[0m: __repr__ returned non-string (type NoneType)"
     ]
    }
   ],
   "source": [
    "game = Game()\n",
    "game.blueprints"
   ]
  },
  {
   "cell_type": "markdown",
   "metadata": {},
   "source": [
    "**--- Part Two ---**"
   ]
  },
  {
   "cell_type": "code",
   "execution_count": 64,
   "metadata": {},
   "outputs": [
    {
     "data": {
      "text/html": [
       "<pre style=\"white-space:pre;overflow-x:auto;line-height:normal;font-family:Menlo,'DejaVu Sans Mono',consolas,'Courier New',monospace\"><span style=\"font-weight: bold\">[</span>\n",
       "    Blueprint: ore: <span style=\"color: #008080; text-decoration-color: #008080; font-weight: bold\">4</span> ore\n",
       "           clay: <span style=\"font-weight: bold\">{</span><span style=\"color: #008000; text-decoration-color: #008000\">'ore'</span>: <span style=\"color: #008080; text-decoration-color: #008080; font-weight: bold\">2</span><span style=\"font-weight: bold\">}</span>\n",
       "           obsidian: <span style=\"font-weight: bold\">{</span><span style=\"color: #008000; text-decoration-color: #008000\">'ore'</span>: <span style=\"color: #008080; text-decoration-color: #008080; font-weight: bold\">3</span>, <span style=\"color: #008000; text-decoration-color: #008000\">'clay'</span>: <span style=\"color: #008080; text-decoration-color: #008080; font-weight: bold\">14</span><span style=\"font-weight: bold\">}</span>\n",
       "           geode: <span style=\"font-weight: bold\">{</span><span style=\"color: #008000; text-decoration-color: #008000\">'ore'</span>: <span style=\"color: #008080; text-decoration-color: #008080; font-weight: bold\">2</span>, <span style=\"color: #008000; text-decoration-color: #008000\">'obsidian'</span>: <span style=\"color: #008080; text-decoration-color: #008080; font-weight: bold\">7</span><span style=\"font-weight: bold\">}</span>,\n",
       "    Blueprint: ore: <span style=\"color: #008080; text-decoration-color: #008080; font-weight: bold\">2</span> ore\n",
       "           clay: <span style=\"font-weight: bold\">{</span><span style=\"color: #008000; text-decoration-color: #008000\">'ore'</span>: <span style=\"color: #008080; text-decoration-color: #008080; font-weight: bold\">3</span><span style=\"font-weight: bold\">}</span>\n",
       "           obsidian: <span style=\"font-weight: bold\">{</span><span style=\"color: #008000; text-decoration-color: #008000\">'ore'</span>: <span style=\"color: #008080; text-decoration-color: #008080; font-weight: bold\">3</span>, <span style=\"color: #008000; text-decoration-color: #008000\">'clay'</span>: <span style=\"color: #008080; text-decoration-color: #008080; font-weight: bold\">8</span><span style=\"font-weight: bold\">}</span>\n",
       "           geode: <span style=\"font-weight: bold\">{</span><span style=\"color: #008000; text-decoration-color: #008000\">'ore'</span>: <span style=\"color: #008080; text-decoration-color: #008080; font-weight: bold\">3</span>, <span style=\"color: #008000; text-decoration-color: #008000\">'obsidian'</span>: <span style=\"color: #008080; text-decoration-color: #008080; font-weight: bold\">12</span><span style=\"font-weight: bold\">}</span>\n",
       "<span style=\"font-weight: bold\">]</span>\n",
       "</pre>\n"
      ],
      "text/plain": [
       "\u001b[1m[\u001b[0m\n",
       "    Blueprint: ore: \u001b[1;36m4\u001b[0m ore\n",
       "           clay: \u001b[1m{\u001b[0m\u001b[32m'ore'\u001b[0m: \u001b[1;36m2\u001b[0m\u001b[1m}\u001b[0m\n",
       "           obsidian: \u001b[1m{\u001b[0m\u001b[32m'ore'\u001b[0m: \u001b[1;36m3\u001b[0m, \u001b[32m'clay'\u001b[0m: \u001b[1;36m14\u001b[0m\u001b[1m}\u001b[0m\n",
       "           geode: \u001b[1m{\u001b[0m\u001b[32m'ore'\u001b[0m: \u001b[1;36m2\u001b[0m, \u001b[32m'obsidian'\u001b[0m: \u001b[1;36m7\u001b[0m\u001b[1m}\u001b[0m,\n",
       "    Blueprint: ore: \u001b[1;36m2\u001b[0m ore\n",
       "           clay: \u001b[1m{\u001b[0m\u001b[32m'ore'\u001b[0m: \u001b[1;36m3\u001b[0m\u001b[1m}\u001b[0m\n",
       "           obsidian: \u001b[1m{\u001b[0m\u001b[32m'ore'\u001b[0m: \u001b[1;36m3\u001b[0m, \u001b[32m'clay'\u001b[0m: \u001b[1;36m8\u001b[0m\u001b[1m}\u001b[0m\n",
       "           geode: \u001b[1m{\u001b[0m\u001b[32m'ore'\u001b[0m: \u001b[1;36m3\u001b[0m, \u001b[32m'obsidian'\u001b[0m: \u001b[1;36m12\u001b[0m\u001b[1m}\u001b[0m\n",
       "\u001b[1m]\u001b[0m\n"
      ]
     },
     "metadata": {},
     "output_type": "display_data"
    }
   ],
   "source": [
    "rprint(game.blueprints)"
   ]
  },
  {
   "cell_type": "code",
   "execution_count": 93,
   "metadata": {},
   "outputs": [
    {
     "data": {
      "text/plain": [
       "126"
      ]
     },
     "execution_count": 93,
     "metadata": {},
     "output_type": "execute_result"
    },
    {
     "ename": "",
     "evalue": "",
     "output_type": "error",
     "traceback": [
      "\u001b[1;31mThe Kernel crashed while executing code in the the current cell or a previous cell. Please review the code in the cell(s) to identify a possible cause of the failure. Click <a href='https://aka.ms/vscodeJupyterKernelCrash'>here</a> for more info. View Jupyter <a href='command:jupyter.viewOutput'>log</a> for further details."
     ]
    }
   ],
   "source": [
    "42*3\n"
   ]
  }
 ],
 "metadata": {
  "kernelspec": {
   "display_name": "Python 3.8.5 ('base')",
   "language": "python",
   "name": "python3"
  },
  "language_info": {
   "codemirror_mode": {
    "name": "ipython",
    "version": 3
   },
   "file_extension": ".py",
   "mimetype": "text/x-python",
   "name": "python",
   "nbconvert_exporter": "python",
   "pygments_lexer": "ipython3",
   "version": "3.8.5 (default, Sep  3 2020, 21:29:08) [MSC v.1916 64 bit (AMD64)]"
  },
  "orig_nbformat": 4,
  "vscode": {
   "interpreter": {
    "hash": "47ce790959d06f949a97dbfd06fd621572f81796024eefcf2465e31e88535f2a"
   }
  }
 },
 "nbformat": 4,
 "nbformat_minor": 2
}
