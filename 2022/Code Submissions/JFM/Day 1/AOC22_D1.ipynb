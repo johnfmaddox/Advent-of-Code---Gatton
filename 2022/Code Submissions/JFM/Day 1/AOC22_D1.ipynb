{
 "cells": [
  {
   "cell_type": "markdown",
   "metadata": {},
   "source": [
    "**--- Day 1: Calorie Counting ---**\n",
    "\n",
    "Santa's reindeer typically eat regular reindeer food, but they need a lot of magical energy to deliver presents on Christmas. For that, their favorite snack is a special type of star fruit that only grows deep in the jungle. The Elves have brought you on their annual expedition to the grove where the fruit grows.\n",
    "\n",
    "To supply enough magical energy, the expedition needs to retrieve a minimum of fifty stars by December 25th. Although the Elves assure you that the grove has plenty of fruit, you decide to grab any fruit you see along the way, just in case.\n",
    "\n",
    "Collect stars by solving puzzles. Two puzzles will be made available on each day in the Advent calendar; the second puzzle is unlocked when you complete the first. Each puzzle grants one star. Good luck!\n",
    "\n",
    "The jungle must be too overgrown and difficult to navigate in vehicles or access from the air; the Elves' expedition traditionally goes on foot. As your boats approach land, the Elves begin taking inventory of their supplies. One important consideration is food - in particular, the number of Calories each Elf is carrying (your puzzle input).\n",
    "\n",
    "The Elves take turns writing down the number of Calories contained by the various meals, snacks, rations, etc. that they've brought with them, one item per line. Each Elf separates their own inventory from the previous Elf's inventory (if any) by a blank line.\n",
    "\n",
    "For example, suppose the Elves finish writing their items' Calories and end up with the following list:\n",
    "```\n",
    "1000\n",
    "2000\n",
    "3000\n",
    "\n",
    "4000\n",
    "\n",
    "5000\n",
    "6000\n",
    "\n",
    "7000\n",
    "8000\n",
    "9000\n",
    "\n",
    "10000\n",
    "```\n",
    "\n",
    "This list represents the Calories of the food carried by five Elves:\n",
    "\n",
    "- The first Elf is carrying food with `1000`, `2000`, and `3000` Calories, a total of **`6000`** Calories.\n",
    "- The second Elf is carrying one food item with **`4000`** Calories.\n",
    "- The third Elf is carrying food with `5000` and `6000` Calories, a total of **`11000`** Calories.\n",
    "- The fourth Elf is carrying food with `7000`, `8000`, and `9000` Calories, a total of **`24000`** Calories.\n",
    "- The fifth Elf is carrying one food item with **`10000`** Calories.\n",
    "\n",
    "In case the Elves get hungry and need extra snacks, they need to know which Elf to ask: they'd like to know how many Calories are being carried by the Elf carrying the **most** Calories. In the example above, this is **`24000`** (carried by the fourth Elf).\n",
    "\n",
    "Find the Elf carrying the most Calories. **How many total Calories is that Elf carrying?**\n"
   ]
  },
  {
   "cell_type": "code",
   "execution_count": 4,
   "metadata": {},
   "outputs": [
    {
     "name": "stdout",
     "output_type": "stream",
     "text": [
      "Maximum calories carried by a single elf: 24000\n"
     ]
    }
   ],
   "source": [
    "# select input data case\n",
    "case = \"example\"\n",
    "#case = \"jfm\"\n",
    "#case = \"gatton\"\n",
    "\n",
    "# verbose output\n",
    "verbose = False\n",
    "\n",
    "# Read input into a list of strings by line\n",
    "with open(f'input_{case}','r') as f:\n",
    "    input_lines = f.readlines()\n",
    "\n",
    "# Convert input into a single, long string\n",
    "input_string = ''.join(input_lines)\n",
    "\n",
    "# Split the input string on empty lines (two consecutive '\\n')\n",
    "# Each element in this list will represent the calories carried by one elf\n",
    "input_split = ''.join(input_string).split(\"\\n\\n\")\n",
    "if verbose: print(f'Input split on empty lines: {input_split}')\n",
    "\n",
    "# Split each term into a sublist\n",
    "input_list = [i.split('\\n') for i in input_split]\n",
    "if verbose: print(f'Input as a list of lists: {input_list}')\n",
    "\n",
    "# Convert all string values to integers and store in a new variable called `calories`\n",
    "calories = []\n",
    "for elf in input_list:\n",
    "    calories.append([int(i) for i in elf])\n",
    "if verbose: print(f'Itemized calories carried by each elf: {calories}')\n",
    "\n",
    "# Find the total calories carried by each elf\n",
    "calorie_totals = [sum(i) for i in calories]\n",
    "if verbose: print(f'Total calories carried by each elf: {calorie_totals}')\n",
    "\n",
    "# Find Maximum value in the array\n",
    "max_calories = max(calorie_totals)\n",
    "print(f'Maximum calories carried by a single elf: {max_calories}')"
   ]
  },
  {
   "cell_type": "markdown",
   "metadata": {},
   "source": [
    "**--- Part Two ---**\n",
    "\n",
    "By the time you calculate the answer to the Elves' question, they've already realized that the Elf carrying the most Calories of food might eventually **run out of snacks**.\n",
    "\n",
    "To avoid this unacceptable situation, the Elves would instead like to know the total Calories carried by the **top three** Elves carrying the most Calories. That way, even if one of those Elves runs out of snacks, they still have two backups.\n",
    "\n",
    "In the example above, the top three Elves are the fourth Elf (with `24000` Calories), then the third Elf (with `11000` Calories), then the fifth Elf (with `10000` Calories). The sum of the Calories carried by these three elves is **`45000`**.\n",
    "\n",
    "Find the top three Elves carrying the most Calories. **How many Calories are those Elves carrying in total?**"
   ]
  },
  {
   "cell_type": "code",
   "execution_count": 5,
   "metadata": {},
   "outputs": [
    {
     "name": "stdout",
     "output_type": "stream",
     "text": [
      "Total calories carried by top 3 elves: 45000\n"
     ]
    }
   ],
   "source": [
    "# Sort the list by total calories per elf (lowest to highest)\n",
    "calorie_totals.sort()\n",
    "if verbose: print(f'Total calories carried by each elf sorted from smallest to largest: {calorie_totals}')\n",
    "\n",
    "# Select the last 3 elements in the list\n",
    "top_three = calorie_totals[-3:]\n",
    "if verbose: print(f'Top 3 elf calories: {top_three}')\n",
    "\n",
    "# Calculate the total sum of the top three elves\n",
    "sum_top_three = sum(top_three)\n",
    "print(f'Total calories carried by top 3 elves: {sum_top_three}')"
   ]
  }
 ],
 "metadata": {
  "kernelspec": {
   "display_name": "Python 3.8.5 ('base')",
   "language": "python",
   "name": "python3"
  },
  "language_info": {
   "codemirror_mode": {
    "name": "ipython",
    "version": 3
   },
   "file_extension": ".py",
   "mimetype": "text/x-python",
   "name": "python",
   "nbconvert_exporter": "python",
   "pygments_lexer": "ipython3",
   "version": "3.9.7"
  },
  "orig_nbformat": 4,
  "vscode": {
   "interpreter": {
    "hash": "47ce790959d06f949a97dbfd06fd621572f81796024eefcf2465e31e88535f2a"
   }
  }
 },
 "nbformat": 4,
 "nbformat_minor": 2
}
