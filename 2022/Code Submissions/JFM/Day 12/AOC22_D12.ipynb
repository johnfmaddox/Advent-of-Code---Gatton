{
 "cells": [
  {
   "cell_type": "markdown",
   "metadata": {},
   "source": [
    "**--- Part One ---**"
   ]
  },
  {
   "cell_type": "code",
   "execution_count": 1,
   "metadata": {},
   "outputs": [],
   "source": [
    "## Select input data case\n",
    "## Note: this assumes a plain textfile named `input_{case}` is located in the same folder as this notebook\n",
    "case = \"example\" # <- input_example\n",
    "# case = \"jfm\"\n",
    "case = \"gatton\"\n",
    "\n",
    "# verbose output\n",
    "verbose = False\n",
    "\n",
    "import numpy as np\n",
    "from itertools import cycle\n",
    "\n",
    "# Read input\n",
    "with open(f'input_{case}','r') as f:\n",
    "    input_lines = f.readlines()\n",
    "\n",
    "import numpy as np\n",
    "\n",
    "abc = {val:idx for idx,val in enumerate('abcdefghijklmnopqrstuvwxyz')}\n",
    "abc['S'] = -1\n",
    "abc['E'] = 26\n",
    "\n",
    "class Elf():\n",
    "    def __init__(self,pos):\n",
    "        self.pos = np.array(pos)\n",
    "\n",
    "class Grid():\n",
    "    def __init__(self, start=None):\n",
    "        self.grid = np.array([[abc[val] for val in row.strip()] for row in input_lines])\n",
    "        if start is not None:\n",
    "            self.start = np.array(start)\n",
    "        else:\n",
    "            tmp = np.where(self.grid==-1)\n",
    "            self.start = np.array((tmp[0][0], tmp[1][0]))\n",
    "        self.elves = [Elf(self.start)]\n",
    "        tmp = np.where(self.grid==26)\n",
    "        self.dest = np.array((tmp[0][0], tmp[1][0]))\n",
    "        self.hist = set()\n",
    "        self.width = len(self.grid[0])\n",
    "        self.height = len(self.grid)\n",
    "        self.store_pos(self.start)\n",
    "        self.round = 0\n",
    "        \n",
    "    @property\n",
    "    def finished(self):\n",
    "        if tuple(self.dest) in self.hist:\n",
    "            print(f'finished: {self.round}')\n",
    "            return True\n",
    "        for e in self.elves:\n",
    "            if e.pos[0]==self.dest[0] and e.pos[1]==self.dest[1]:\n",
    "                return True\n",
    "        else:\n",
    "            return False\n",
    "        #return any([np.all(self.dest==e.pos) for e in self.elves])\n",
    "    \n",
    "    def move_options(self,elf):\n",
    "        options = []\n",
    "        for i in ((0,1),(0,-1),(1,0),(-1,0)):\n",
    "            next = elf.pos + i\n",
    "            if next[0]<0 or next[1]<0 or next[0]>=self.height or next[1]>=self.width:\n",
    "                continue\n",
    "            val = self.grid[tuple(elf.pos)]\n",
    "            if tuple(next) not in self.hist:\n",
    "                # print(f'{next=} val={self.grid[tuple(next)]}')\n",
    "                if self.grid[tuple(next)]<=val+1:\n",
    "                    # print(f'adding: {next}')\n",
    "                    options.append(next)\n",
    "        return options\n",
    "    \n",
    "    def next_move(self):\n",
    "        new_elves = []\n",
    "        for elf in self.elves:\n",
    "            for option in self.move_options(elf):\n",
    "                new_elves.append(Elf(option))\n",
    "                self.store_pos(option)\n",
    "        self.elves = new_elves\n",
    "        self.round += 1\n",
    "\n",
    "    def execute_continuous(self,max_rounds=None):\n",
    "        if max_rounds is not None:\n",
    "            n = 0\n",
    "            while (not self.finished) and (n<=max_rounds+1) and (len(self.elves)>0):\n",
    "                self.next_move()\n",
    "                n += 1\n",
    "        else:\n",
    "            print('executing')\n",
    "            while (not self.finished) and len(self.elves)>0:\n",
    "                self.next_move()\n",
    "                # print(self.round)\n",
    "\n",
    "    def store_pos(self, pos):\n",
    "        self.hist.add(tuple(pos))"
   ]
  },
  {
   "cell_type": "code",
   "execution_count": 2,
   "metadata": {},
   "outputs": [
    {
     "name": "stdout",
     "output_type": "stream",
     "text": [
      "executing\n",
      "finished: 352\n",
      "finished: 352\n",
      "True\n",
      "352\n"
     ]
    }
   ],
   "source": [
    "grid = Grid()\n",
    "grid.execute_continuous()\n",
    "print(grid.finished)\n",
    "print(grid.round)"
   ]
  },
  {
   "cell_type": "markdown",
   "metadata": {},
   "source": [
    "**--- Part Two ---**"
   ]
  },
  {
   "cell_type": "code",
   "execution_count": 17,
   "metadata": {},
   "outputs": [
    {
     "data": {
      "text/plain": [
       "386"
      ]
     },
     "execution_count": 17,
     "metadata": {},
     "output_type": "execute_result"
    }
   ],
   "source": [
    "grid = Grid()\n",
    "starting_points = []\n",
    "distances = []\n",
    "tmp = np.where(grid.grid == 0)\n",
    "for i,v in enumerate(tmp[0]):\n",
    "    starting_points.append([tmp[0][i],tmp[1][i]])\n",
    "sorted_points = sorted(starting_points, key=lambda x: abs(x[0]-grid.dest[0]) + abs(x[1]-grid.dest[1]))\n",
    "max_rounds = None\n",
    "for point in sorted_points:\n",
    "    # print(f'checking {point}')\n",
    "    grid = Grid(point)\n",
    "    grid.execute_continuous(max_rounds)\n",
    "    if grid.finished: distances.append(grid.round)\n",
    "    if len(distances)>0: max_rounds = min(distances)\n",
    "min(distances)                                                                                                      "
   ]
  }
 ],
 "metadata": {
  "kernelspec": {
   "display_name": "Python 3.8.5 ('base')",
   "language": "python",
   "name": "python3"
  },
  "language_info": {
   "codemirror_mode": {
    "name": "ipython",
    "version": 3
   },
   "file_extension": ".py",
   "mimetype": "text/x-python",
   "name": "python",
   "nbconvert_exporter": "python",
   "pygments_lexer": "ipython3",
   "version": "3.8.5"
  },
  "orig_nbformat": 4,
  "vscode": {
   "interpreter": {
    "hash": "47ce790959d06f949a97dbfd06fd621572f81796024eefcf2465e31e88535f2a"
   }
  }
 },
 "nbformat": 4,
 "nbformat_minor": 2
}
