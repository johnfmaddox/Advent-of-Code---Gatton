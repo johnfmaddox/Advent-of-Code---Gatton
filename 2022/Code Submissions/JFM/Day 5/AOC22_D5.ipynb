{
 "cells": [
  {
   "cell_type": "markdown",
   "metadata": {},
   "source": [
    "**--- Day 5: ---**"
   ]
  },
  {
   "cell_type": "code",
   "execution_count": 58,
   "metadata": {},
   "outputs": [
    {
     "name": "stdout",
     "output_type": "stream",
     "text": [
      "TWSGQHNHL\n"
     ]
    }
   ],
   "source": [
    "## Select input data case\n",
    "## Note: this assumes a plain textfile named `input_{case}` is located in the same folder as this notebook\n",
    "case = \"example\" # <- input_example\n",
    "case = \"jfm\"\n",
    "case = \"gatton\"\n",
    "\n",
    "# verbose output\n",
    "verbose = True\n",
    "\n",
    "# Read input into a list of strings by line\n",
    "with open(f'input_{case}','r') as f:\n",
    "    input_lines = f.readlines()\n",
    "\n",
    "input_string = ''.join(input_lines)\n",
    "[header,directions] = input_string.split('\\n\\n')\n",
    "\n",
    "# parse header\n",
    "header = header.split('\\n')\n",
    "header.reverse()\n",
    "crates = {int(n):[] for n in header[0] if not n==' '}\n",
    "n_crates = len(crates)\n",
    "for row in header[1:]:\n",
    "    for i in range(n_crates):\n",
    "        idx = i*4 + 1\n",
    "        val = row[idx]\n",
    "        if val != ' ': crates[i+1].append(val)\n",
    "crates_init = crates.copy()        \n",
    "\n",
    "# parse directions\n",
    "directions = directions.split('\\n')\n",
    "directions = [line.split(' ') for line in directions]\n",
    "directions = [[int(i[1]),int(i[3]),int(i[5])] for i in directions]\n",
    "\n",
    "# function to move a crate\n",
    "def move(n_move,from_crate,to_crate):\n",
    "    for i in range(n_move):\n",
    "        crates[to_crate].append(crates[from_crate].pop())\n",
    "\n",
    "for direction in directions:\n",
    "    move(*direction)\n",
    "\n",
    "output = ''.join([crates[i][-1] for i in range(1,n_crates+1)])\n",
    "print(output)"
   ]
  },
  {
   "cell_type": "markdown",
   "metadata": {},
   "source": [
    "**--- Part Two ---**"
   ]
  },
  {
   "cell_type": "code",
   "execution_count": 59,
   "metadata": {},
   "outputs": [
    {
     "name": "stdout",
     "output_type": "stream",
     "text": [
      "9\n",
      "{1: ['J'], 2: ['N'], 3: ['M', 'T', 'W', 'R'], 4: ['P', 'G', 'N', 'L', 'N', 'C', 'N', 'L', 'N', 'Q', 'W', 'S'], 5: ['L', 'S', 'C'], 6: ['G', 'T', 'M', 'W', 'C', 'H', 'D'], 7: ['G', 'T', 'R', 'D', 'W', 'N', 'V', 'Z', 'J', 'P', 'L', 'H', 'H', 'W', 'M', 'T', 'D', 'Q', 'W'], 8: ['B', 'N', 'P'], 9: ['B', 'B', 'G', 'H', 'D', 'P']}\n",
      "JNRSCDWPP\n"
     ]
    }
   ],
   "source": [
    "# Read input into a list of strings by line\n",
    "with open(f'input_{case}','r') as f:\n",
    "    input_lines = f.readlines()\n",
    "\n",
    "input_string = ''.join(input_lines)\n",
    "[header,directions] = input_string.split('\\n\\n')\n",
    "\n",
    "# parse header\n",
    "header = header.split('\\n')\n",
    "header.reverse()\n",
    "crates = {int(n):[] for n in header[0] if not n==' '}\n",
    "n_crates = len(crates)\n",
    "print(n_crates)\n",
    "for row in header[1:]:\n",
    "    for i in range(n_crates):\n",
    "        idx = i*4 + 1\n",
    "        val = row[idx]\n",
    "        if val != ' ': crates[i+1].append(val)\n",
    "\n",
    "# parse directions\n",
    "directions = directions.split('\\n')\n",
    "directions = [line.split(' ') for line in directions]\n",
    "directions = [[int(i[1]),int(i[3]),int(i[5])] for i in directions]\n",
    "              \n",
    "# function to move a crate\n",
    "def move(n_move,from_crate,to_crate):\n",
    "    crates[to_crate].extend(crates[from_crate][-n_move:])\n",
    "    del crates[from_crate][-n_move:]\n",
    "\n",
    "for direction in directions:\n",
    "    move(*direction)\n",
    "\n",
    "print(crates)\n",
    "output = ''.join([crates[i][-1] for i in range(1,n_crates+1)])\n",
    "print(output)"
   ]
  },
  {
   "cell_type": "code",
   "execution_count": null,
   "metadata": {},
   "outputs": [],
   "source": []
  }
 ],
 "metadata": {
  "kernelspec": {
   "display_name": "Python 3.8.5 ('base')",
   "language": "python",
   "name": "python3"
  },
  "language_info": {
   "codemirror_mode": {
    "name": "ipython",
    "version": 3
   },
   "file_extension": ".py",
   "mimetype": "text/x-python",
   "name": "python",
   "nbconvert_exporter": "python",
   "pygments_lexer": "ipython3",
   "version": "3.8.5"
  },
  "orig_nbformat": 4,
  "vscode": {
   "interpreter": {
    "hash": "47ce790959d06f949a97dbfd06fd621572f81796024eefcf2465e31e88535f2a"
   }
  }
 },
 "nbformat": 4,
 "nbformat_minor": 2
}
