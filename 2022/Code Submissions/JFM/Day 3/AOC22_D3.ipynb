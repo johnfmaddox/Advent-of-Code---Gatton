{
 "cells": [
  {
   "cell_type": "markdown",
   "metadata": {},
   "source": [
    "**--- Day 3: Rucksack Reorganization ---**\n",
    "\n",
    "One Elf has the important job of loading all of the [rucksacks](https://en.wikipedia.org/wiki/Rucksack) with supplies for the jungle journey. Unfortunately, that Elf didn't quite follow the packing instructions, and so a few items now need to be rearranged.\n",
    "\n",
    "Each rucksack has two large **compartments**. All items of a given type are meant to go into exactly one of the two compartments. The Elf that did the packing failed to follow this rule for exactly one item type per rucksack.\n",
    "\n",
    "The Elves have made a list of all of the items currently in each rucksack (your puzzle input), but they need your help finding the errors. Every item type is identified by a single lowercase or uppercase letter (that is, a and A refer to different types of items).\n",
    "\n",
    "The list of items for each rucksack is given as characters all on a single line. A given rucksack always has the same number of items in each of its two compartments, so the first half of the characters represent items in the first compartment, while the second half of the characters represent items in the second compartment.\n",
    "\n",
    "For example, suppose you have the following list of contents from six rucksacks:\n",
    "```\n",
    "vJrwpWtwJgWrhcsFMMfFFhFp\n",
    "jqHRNqRjqzjGDLGLrsFMfFZSrLrFZsSL\n",
    "PmmdzqPrVvPwwTWBwg\n",
    "wMqvLMZHhHMvwLHjbvcjnnSBnvTQFn\n",
    "ttgJtRGJQctTZtZT\n",
    "CrZsJsPPZsGzwwsLwLmpwMDw\n",
    "```\n",
    "\n",
    "- The first rucksack contains the items `JrwpWtwJgWrhcsFMMfFFhFp`, which means its first compartment contains the items `vJrwpWtwJgWr`, while the second compartment contains the items `hcsFMMfFFhFp`. The only item type that appears in both compartments is lowercase **`p`**.\n",
    "- The second rucksack's compartments contain `jqHRNqRjqzjGDLGL` and `rsFMfFZSrLrFZsSL`. The only item type that appears in both compartments is uppercase **`L`**.\n",
    "- The third rucksack's compartments contain `PmmdzqPrV` and `vPwwTWBwg`; the only common item type is uppercase **`P`**.\n",
    "- The fourth rucksack's compartments only share item type **`v`**.\n",
    "- The fifth rucksack's compartments only share item type **`t`**.\n",
    "- The sixth rucksack's compartments only share item type **`s`**.\n",
    "\n",
    "To help prioritize item rearrangement, every item type can be converted to a **priority**:\n",
    "\n",
    "- Lowercase item types `a` through `z` have priorities 1 through 26.\n",
    "- Uppercase item types `A` through `Z` have priorities 27 through 52.\n",
    "\n",
    "In the above example, the priority of the item type that appears in both compartments of each rucksack is 16 (`p`), 38 (`L`), 42 (`P`), 22 (`v`), 20 (`t`), and 19 (`s`); the sum of these is **`157`**.\n",
    "\n",
    "Find the item type that appears in both compartments of each rucksack. **What is the sum of the priorities of those item types?**"
   ]
  },
  {
   "cell_type": "code",
   "execution_count": 3,
   "metadata": {},
   "outputs": [
    {
     "name": "stdout",
     "output_type": "stream",
     "text": [
      "Sum of priorities: 157\n"
     ]
    }
   ],
   "source": [
    "## Select input data case\n",
    "## Note: this assumes a plain textfile named `input_{case}` is located in the same folder as this notebook\n",
    "case = \"example\" # <- input_example\n",
    "#case = \"jfm\"\n",
    "#case = \"gatton\"\n",
    "\n",
    "# verbose output\n",
    "verbose = False\n",
    "\n",
    "# Read input into a list of strings by line\n",
    "with open(f'input_{case}','r') as f:\n",
    "    raw_input = f.readlines()\n",
    "\n",
    "# remove new line characters (`\\n`) from each item\n",
    "rucksacks = [i.strip() for i in raw_input]\n",
    "\n",
    "# Make a function that returns the priority of a letter\n",
    "letters = 'abcdefghijklmnopqrstuvwxyzABCDEFGHIJKLMNOPQRSTUVWXYZ' \n",
    "priority = lambda x: letters.index(x) + 1 # <- find the numeric location (index) of the letter in the list and add 1 to it since indices start at 0\n",
    "\n",
    "# Initialize a variable to hold a running total\n",
    "total_priority = 0\n",
    "\n",
    "# Iterate through each rucksack\n",
    "for sack in rucksacks:\n",
    "    # Split string in half\n",
    "    halfway = int(len(sack)/2) # <- indices must be integers\n",
    "    c1 = sack[:halfway] # <- slice of 0 to halfway\n",
    "    c2 = sack[halfway:] # <- slice of halfway to the end\n",
    "    match = None # <- initialize a variable to store which letter is common between the compartments\n",
    "    if verbose: print(f'sack: {sack}\\n\\tcompartment 1: {c1}\\n\\tcompartment 2: {c2}')\n",
    "    for i in c1: # <- For each letter in compartment 1\n",
    "        if i in c2: # <- Check if the letter is also in compartment 2\n",
    "            match = i # <- store the matching letter\n",
    "    # Increments the running total\n",
    "    total_priority += priority(match) # <- add the corresponding priority level for the matching letter to the running total\n",
    "    if verbose: print(f'\\titem: {match}\\n\\tpriority: {priority(match)}')\n",
    "\n",
    "print(f'Sum of priorities: {total_priority}')"
   ]
  },
  {
   "cell_type": "markdown",
   "metadata": {},
   "source": [
    "**--- Part Two ---**\n",
    "\n",
    "As you finish identifying the misplaced items, the Elves come to you with another issue.\n",
    "\n",
    "For safety, the Elves are divided into groups of three. Every Elf carries a badge that identifies their group. For efficiency, within each group of three Elves, the badge is the **only item type carried by all three Elves**. That is, if a group's badge is item type `B`, then all three Elves will have item type `B` somewhere in their rucksack, and at most two of the Elves will be carrying any other item type.\n",
    "\n",
    "The problem is that someone forgot to put this year's updated authenticity sticker on the badges. All of the badges need to be pulled out of the rucksacks so the new authenticity stickers can be attached.\n",
    "\n",
    "Additionally, nobody wrote down which item type corresponds to each group's badges. The only way to tell which item type is the right one is by finding the one item type that is **common between all three Elves** in each group.\n",
    "\n",
    "Every set of three lines in your list corresponds to a single group, but each group can have a different badge item type. So, in the above example, the first group's rucksacks are the first three lines:\n",
    "\n",
    "```\n",
    "vJrwpWtwJgWrhcsFMMfFFhFp\n",
    "jqHRNqRjqzjGDLGLrsFMfFZSrLrFZsSL\n",
    "PmmdzqPrVvPwwTWBwg\n",
    "```\n",
    "\n",
    "And the second group's rucksacks are the next three lines:\n",
    "\n",
    "```\n",
    "wMqvLMZHhHMvwLHjbvcjnnSBnvTQFn\n",
    "ttgJtRGJQctTZtZT\n",
    "CrZsJsPPZsGzwwsLwLmpwMDw\n",
    "```\n",
    "\n",
    "In the first group, the only item type that appears in all three rucksacks is lowercase `r`; this must be their badges. In the second group, their badge item type must be `Z`.\n",
    "\n",
    "Priorities for these items must still be found to organize the sticker attachment efforts: here, they are 18 (`r`) for the first group and 52 (`Z`) for the second group. The sum of these is **70**.\n",
    "\n",
    "Find the item type that corresponds to the badges of each three-Elf group. **What is the sum of the priorities of those item types?**"
   ]
  },
  {
   "cell_type": "code",
   "execution_count": 4,
   "metadata": {},
   "outputs": [
    {
     "name": "stdout",
     "output_type": "stream",
     "text": [
      "Sum of priorities: 70\n"
     ]
    }
   ],
   "source": [
    "# Split into groups of 3\n",
    "n_groups = int(len(rucksacks)/3) # determine number of groups\n",
    "groups = [] # initialize an empty list to hold the groups\n",
    "for i in range(n_groups): # add slices 3 items to `groups`\n",
    "    start = i*3\n",
    "    end = start + 3\n",
    "    groups.append(rucksacks[start:end])\n",
    "if verbose: print(groups)\n",
    "\n",
    "group_priority_total = 0\n",
    "for group in groups:\n",
    "    match = None\n",
    "    for i in group[0]: # <- For each letter in the first sack\n",
    "        if (i in group[1]) and (i in group[2]): # <- Check if the letter is also both the other sacks\n",
    "            match = i\n",
    "    group_priority_total += priority(match) # <- add the corresponding priority level for the matching letter to the running total\n",
    "\n",
    "print(f'Sum of priorities: {group_priority_total}')"
   ]
  }
 ],
 "metadata": {
  "kernelspec": {
   "display_name": "Python 3.8.5 ('base')",
   "language": "python",
   "name": "python3"
  },
  "language_info": {
   "codemirror_mode": {
    "name": "ipython",
    "version": 3
   },
   "file_extension": ".py",
   "mimetype": "text/x-python",
   "name": "python",
   "nbconvert_exporter": "python",
   "pygments_lexer": "ipython3",
   "version": "3.8.5"
  },
  "orig_nbformat": 4,
  "vscode": {
   "interpreter": {
    "hash": "47ce790959d06f949a97dbfd06fd621572f81796024eefcf2465e31e88535f2a"
   }
  }
 },
 "nbformat": 4,
 "nbformat_minor": 2
}
