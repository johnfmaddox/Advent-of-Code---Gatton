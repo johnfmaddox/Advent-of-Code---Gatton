{
 "cells": [
  {
   "cell_type": "markdown",
   "metadata": {},
   "source": [
    "**--- Part One ---**"
   ]
  },
  {
   "cell_type": "code",
   "execution_count": 396,
   "metadata": {},
   "outputs": [],
   "source": [
    "## Select input data case\n",
    "## Note: this assumes a plain textfile named `input_{case}` is located in the same folder as this notebook\n",
    "case = \"example\" # <- input_example\n",
    "case = \"jfm\"\n",
    "case = \"gatton\"\n",
    "\n",
    "import numpy as np\n",
    "from itertools import cycle\n",
    "from skimage.morphology import flood_fill\n",
    "\n",
    "# Read input\n",
    "with open(f'input_{case}','r') as f:\n",
    "    input_lines = f.readlines()\n",
    "\n",
    "faces = [np.array(i) for i in [\n",
    "    [1,0,0],\n",
    "    [-1,0,0],\n",
    "    [0,1,0],\n",
    "    [0,-1,0],\n",
    "    [0,0,1],\n",
    "    [0,0,-1]\n",
    "]]\n",
    "\n",
    "class Cube():\n",
    "    def __init__(self,coords):\n",
    "        self.coords = tuple(coords)\n",
    "        self.coord = np.array(coords)\n",
    "        self.x = coords[0]\n",
    "        self.y = coords[1]\n",
    "        self.z = coords[2]\n",
    "        self.pockets = []\n",
    "\n",
    "    def check_exposed_str(self,coords_str, grid=None, part=1):\n",
    "        self.exposed = 0\n",
    "        for face in faces:\n",
    "            neigh = self.coord + face\n",
    "            neigh_str = f'{neigh[0]},{neigh[1]},{neigh[2]}'\n",
    "            # if part==1:\n",
    "            if not (neigh_str in coords_str):\n",
    "                if part==1:\n",
    "                    self.exposed += 1\n",
    "                    self.pockets.append(neigh)\n",
    "                elif part==2:                \n",
    "                    self.pockets.append(neigh)\n",
    "                    if self.check_pocket(pocket=neigh, grid=grid):\n",
    "                        self.exposed += 1\n",
    "\n",
    "    def check_pocket(self,pocket,grid,verbose=False):\n",
    "        pocket = pocket + np.array([2,2,2])\n",
    "        filled_grid = flood_fill(grid,tuple(pocket),2,connectivity=1)\n",
    "        if verbose: print(f'checking pocket: {pocket}')\n",
    "        if filled_grid[0,0,0] == 2:\n",
    "            return True\n",
    "        else:\n",
    "            return False\n",
    "\n",
    " \n",
    "    def __repr__(self):\n",
    "        return f'cube: ({self.x},{self.y},{self.z})'\n",
    "\n",
    "\n",
    "class Grid():\n",
    "    def __init__(self, part=1):\n",
    "        self.cubes = []\n",
    "        self.xs = []\n",
    "        self.ys = []\n",
    "        self.zs = []\n",
    "        self.coords = []\n",
    "        self.coords_str = []\n",
    "        self.grid_trans = np.array([2,2,2])\n",
    "        for line in input_lines:\n",
    "            line=line.strip()\n",
    "            coords = [int(i) for i in line.split(',')]\n",
    "            self.xs.append(coords[0])\n",
    "            self.ys.append(coords[1])\n",
    "            self.zs.append(coords[2])\n",
    "            self.coords.append(coords)\n",
    "            self.coords_str.append(line)\n",
    "            self.cubes.append(Cube(coords))\n",
    "\n",
    "        if part==1:\n",
    "            for cube in self.cubes:\n",
    "                cube.check_exposed_str(self.coords_str,part=part)\n",
    "            self.surface = sum([cube.exposed for cube in self.cubes])\n",
    "\n",
    "        self.grid = np.zeros([max(self.xs)+6, max(self.ys)+6, max(self.zs)+6])\n",
    "        for cube in self.cubes:\n",
    "            self.grid[tuple(cube.coord+np.array([2,2,2]))] = 1\n",
    "\n",
    "        if part==2:\n",
    "            for cube in self.cubes:\n",
    "                cube.check_exposed_str(self.coords_str, grid=self.grid, part=part)\n",
    "            self.surface = sum([cube.exposed for cube in self.cubes])"
   ]
  },
  {
   "cell_type": "code",
   "execution_count": 397,
   "metadata": {},
   "outputs": [
    {
     "name": "stdout",
     "output_type": "stream",
     "text": [
      "4548\n"
     ]
    }
   ],
   "source": [
    "grid = Grid()\n",
    "print(grid.surface)"
   ]
  },
  {
   "cell_type": "markdown",
   "metadata": {},
   "source": [
    "**--- Part Two ---**"
   ]
  },
  {
   "cell_type": "code",
   "execution_count": 398,
   "metadata": {},
   "outputs": [
    {
     "name": "stdout",
     "output_type": "stream",
     "text": [
      "2588\n"
     ]
    }
   ],
   "source": [
    "grid = Grid(part=2)\n",
    "print(grid.surface)"
   ]
  }
 ],
 "metadata": {
  "kernelspec": {
   "display_name": "Python 3.8.5 ('base')",
   "language": "python",
   "name": "python3"
  },
  "language_info": {
   "codemirror_mode": {
    "name": "ipython",
    "version": 3
   },
   "file_extension": ".py",
   "mimetype": "text/x-python",
   "name": "python",
   "nbconvert_exporter": "python",
   "pygments_lexer": "ipython3",
   "version": "3.8.5"
  },
  "orig_nbformat": 4,
  "vscode": {
   "interpreter": {
    "hash": "47ce790959d06f949a97dbfd06fd621572f81796024eefcf2465e31e88535f2a"
   }
  }
 },
 "nbformat": 4,
 "nbformat_minor": 2
}
