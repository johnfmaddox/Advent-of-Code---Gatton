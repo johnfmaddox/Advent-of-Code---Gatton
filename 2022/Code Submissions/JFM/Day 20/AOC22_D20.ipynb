{
 "cells": [
  {
   "cell_type": "markdown",
   "metadata": {},
   "source": [
    "**--- Part One ---**"
   ]
  },
  {
   "cell_type": "code",
   "execution_count": 57,
   "metadata": {},
   "outputs": [
    {
     "name": "stdout",
     "output_type": "stream",
     "text": [
      "1\n",
      "4\n",
      "-3\n",
      "[3, -2, -3, 4, 1, 0, 2]\n",
      "2\n"
     ]
    }
   ],
   "source": [
    "## Select input data case\n",
    "## Note: this assumes a plain textfile named `input_{case}` is located in the same folder as this notebook\n",
    "case = \"example\" # <- input_example\n",
    "#case = \"jfm\"\n",
    "# case = \"gatton\"\n",
    "\n",
    "# verbose output\n",
    "verbose = False\n",
    "\n",
    "# Read input\n",
    "with open(f'input_{case}','r') as f:\n",
    "    input_lines = f.readlines()\n",
    "\n",
    "orig = [int(i.strip()) for i in input_lines]\n",
    "\n",
    "mixed = [i for i in orig]\n",
    "\n",
    "orig_len = len(orig)\n",
    "mixed_idxs = [i for i,v in enumerate(orig)]\n",
    "\n",
    "def mix(idx):\n",
    "    val = orig[idx]\n",
    "    #print(f'{val=}')\n",
    "    prev_idx = mixed_idxs.index(idx)\n",
    "    #print(f'{prev_idx=}')\n",
    "    new_idx = prev_idx + val\n",
    "    #print(f'{new_idx=}')\n",
    "    if new_idx < 0: new_idx=orig_len + new_idx -1\n",
    "    elif new_idx >= orig_len:\n",
    "        # print('wrapping') \n",
    "        new_idx = new_idx-orig_len+1\n",
    "    #elif new_idx >= orig_len: new_idx = new_idx%(orig_len-1)\n",
    "    elif new_idx == 0: new_idx = orig_len\n",
    "    #print(f'{new_idx=}')\n",
    "    # try:\n",
    "    #     #print(f'{val} moves between {mixed[new_idx]} and {mixed[new_idx+1]}')\n",
    "    # except IndexError:\n",
    "    #     #print(f'{new_idx=}')\n",
    "    #     #print(f'{val} moves between {mixed[-1]} and {mixed[0]}')\n",
    "    if new_idx==prev_idx:\n",
    "        pass\n",
    "    else:\n",
    "        for l in [mixed, mixed_idxs]:\n",
    "            val = l.pop(prev_idx)\n",
    "            if new_idx<prev_idx: new_idx+=1\n",
    "            l.insert(new_idx, val)\n",
    "        # elif new_idx<prev_idx:\n",
    "    #     for l in [mixed,mixed_idxs]:\n",
    "    #         val = l[prev_idx]\n",
    "    #         l[new_idx-1:prev_idx-1] = l[new_idx:prev_idx]\n",
    "    #         l[new_idx] = val\n",
    "    # elif new_idx == orig_len:\n",
    "    #     for l in [mixed,mixed_idxs]:\n",
    "    #         val = l[prev_idx]\n",
    "    #         l[prev_idx:-1] = l[prev_idx+1:]\n",
    "    #         l[-1] = val\n",
    "    # elif new_idx>prev_idx:\n",
    "    #     for l in [mixed,mixed_idxs]:\n",
    "    #         val = l[prev_idx]\n",
    "    #         l[prev_idx:new_idx] = l[prev_idx+1:new_idx+1]\n",
    "    #         l[new_idx] = val\n",
    "\n",
    "def get_idx(n_idx,start_val=0):\n",
    "    start_idx = mixed.index(start_val)\n",
    "    target_idx = (start_idx+n_idx)%(orig_len)\n",
    "    return mixed[target_idx]\n",
    "    \n",
    "for i,v in enumerate(orig):\n",
    "    mix(i)\n",
    "\n",
    "total = 0\n",
    "for i in [1000,2000,3000]:\n",
    "    val = get_idx(i)\n",
    "    print(val)\n",
    "    total += val\n",
    "print(mixed)\n",
    "print(total)"
   ]
  },
  {
   "cell_type": "code",
   "execution_count": 54,
   "metadata": {},
   "outputs": [
    {
     "name": "stdout",
     "output_type": "stream",
     "text": [
      "i=578\n",
      "5000\n"
     ]
    },
    {
     "data": {
      "text/plain": [
       "-5756"
      ]
     },
     "execution_count": 54,
     "metadata": {},
     "output_type": "execute_result"
    }
   ],
   "source": [
    "mixed.index(0)\n",
    "for i,v in enumerate(mixed):\n",
    "    if v == 0:\n",
    "        print(f'{i=}')\n",
    "print(len(mixed))\n",
    "mixed[2578]"
   ]
  },
  {
   "cell_type": "code",
   "execution_count": 19,
   "metadata": {},
   "outputs": [
    {
     "name": "stdout",
     "output_type": "stream",
     "text": [
      "[1, 2, -3, 4, 0, 3, -2]\n",
      "4\n",
      "3\n"
     ]
    },
    {
     "data": {
      "text/plain": [
       "4"
      ]
     },
     "execution_count": 19,
     "metadata": {},
     "output_type": "execute_result"
    }
   ],
   "source": [
    "print(mixed)\n",
    "startidx = mixed.index(0)\n",
    "print(mixed.index(0))\n",
    "targetidx = (startidx+1000)%7\n",
    "print(targetidx)\n",
    "mixed[targetidx]"
   ]
  },
  {
   "cell_type": "markdown",
   "metadata": {},
   "source": [
    "**--- Part Two ---**"
   ]
  },
  {
   "cell_type": "code",
   "execution_count": 55,
   "metadata": {},
   "outputs": [
    {
     "data": {
      "text/plain": [
       "array([-2,  0,  4,  1,  2, -3,  3])"
      ]
     },
     "execution_count": 55,
     "metadata": {},
     "output_type": "execute_result"
    }
   ],
   "source": [
    "def roll_forward(L,idx):\n",
    "    val1 = L[idx]\n",
    "    if idx==orig_len:\n",
    "        L[0] = L[-1]\n",
    "        L[-1]=\n",
    "    else:\n",
    "        L[idx]\n"
   ]
  },
  {
   "cell_type": "code",
   "execution_count": null,
   "metadata": {},
   "outputs": [],
   "source": [
    "def mix(idx):\n",
    "    "
   ]
  },
  {
   "cell_type": "code",
   "execution_count": 58,
   "metadata": {},
   "outputs": [
    {
     "data": {
      "text/plain": [
       "12500.0"
      ]
     },
     "execution_count": 58,
     "metadata": {},
     "output_type": "execute_result"
    }
   ],
   "source": [
    "500/.04"
   ]
  },
  {
   "cell_type": "code",
   "execution_count": null,
   "metadata": {},
   "outputs": [],
   "source": []
  }
 ],
 "metadata": {
  "kernelspec": {
   "display_name": "Python 3.8.5 ('base')",
   "language": "python",
   "name": "python3"
  },
  "language_info": {
   "codemirror_mode": {
    "name": "ipython",
    "version": 3
   },
   "file_extension": ".py",
   "mimetype": "text/x-python",
   "name": "python",
   "nbconvert_exporter": "python",
   "pygments_lexer": "ipython3",
   "version": "3.9.7"
  },
  "orig_nbformat": 4,
  "vscode": {
   "interpreter": {
    "hash": "47ce790959d06f949a97dbfd06fd621572f81796024eefcf2465e31e88535f2a"
   }
  }
 },
 "nbformat": 4,
 "nbformat_minor": 2
}
