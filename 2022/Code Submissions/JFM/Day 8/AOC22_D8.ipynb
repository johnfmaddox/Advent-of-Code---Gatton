{
 "cells": [
  {
   "cell_type": "markdown",
   "metadata": {},
   "source": [
    "**--- Part One ---**"
   ]
  },
  {
   "cell_type": "code",
   "execution_count": 1,
   "metadata": {},
   "outputs": [
    {
     "name": "stdout",
     "output_type": "stream",
     "text": [
      "1736\n"
     ]
    }
   ],
   "source": [
    "## Select input data case\n",
    "## Note: this assumes a plain textfile named `input_{case}` is located in the same folder as this notebook\n",
    "case = \"example\" # <- input_example\n",
    "case = \"jfm\"\n",
    "case = \"gatton\"\n",
    "\n",
    "# verbose output\n",
    "verbose = False\n",
    "\n",
    "import numpy as np\n",
    "\n",
    "# Read input\n",
    "with open(f'input_{case}','r') as f:\n",
    "    input_lines = f.readlines()\n",
    "\n",
    "input_list = [[int(i) for i in l.strip()] for l in input_lines]\n",
    "\n",
    "trees = np.array(input_list)\n",
    "shape = trees.shape\n",
    "visible = np.zeros(shape)\n",
    "edges_x = (0,shape[0])\n",
    "edges_y = (0,shape[1])\n",
    "\n",
    "def check_visibility(x,y):\n",
    "    if visible[y,x]:\n",
    "        return None\n",
    "    if (x in edges_x) or (y in edges_y):\n",
    "        visible[y,x] = 1   \n",
    "        return None\n",
    "    height = trees[y,x]\n",
    "    if (\n",
    "        all(height > trees[0:y,x]) or\n",
    "        all(height > trees[y+1:,x]) or\n",
    "        all(height > trees[y,0:x]) or\n",
    "        all(height > trees[y,x+1:])\n",
    "        ):\n",
    "        visible[y,x] = 1\n",
    "        return None\n",
    "\n",
    "for y in range(shape[0]):\n",
    "    for x in range(shape[1]):\n",
    "        check_visibility(x,y)\n",
    "\n",
    "print(int(sum(sum(visible))))"
   ]
  },
  {
   "cell_type": "markdown",
   "metadata": {},
   "source": [
    "**--- Part Two ---**"
   ]
  },
  {
   "cell_type": "code",
   "execution_count": 72,
   "metadata": {},
   "outputs": [
    {
     "data": {
      "text/plain": [
       "268800"
      ]
     },
     "execution_count": 72,
     "metadata": {},
     "output_type": "execute_result"
    }
   ],
   "source": [
    "scenic_score = np.zeros(shape)\n",
    "\n",
    "def count_view_dist(height,heights):\n",
    "    count = 0\n",
    "    for i in heights:\n",
    "        if i < height:\n",
    "            count += 1\n",
    "        elif i >= height:\n",
    "            count += 1\n",
    "            return count\n",
    "        else:\n",
    "            return count\n",
    "    return count\n",
    "\n",
    "for y in range(shape[0]):\n",
    "    for x in range(shape[1]):\n",
    "        height = trees[y,x]\n",
    "        up = count_view_dist(height, np.flip(trees[:y,x])) \n",
    "        down = count_view_dist(height, trees[y+1:,x]) \n",
    "        left = count_view_dist(height, np.flip(trees[y,:x])) \n",
    "        right = count_view_dist(height, trees[y,x+1:])\n",
    "        scenic_score[y,x] = up*down*left*right\n",
    "        \n",
    "int(scenic_score.max())"
   ]
  }
 ],
 "metadata": {
  "kernelspec": {
   "display_name": "Python 3.8.5 ('base')",
   "language": "python",
   "name": "python3"
  },
  "language_info": {
   "codemirror_mode": {
    "name": "ipython",
    "version": 3
   },
   "file_extension": ".py",
   "mimetype": "text/x-python",
   "name": "python",
   "nbconvert_exporter": "python",
   "pygments_lexer": "ipython3",
   "version": "3.9.7"
  },
  "orig_nbformat": 4,
  "vscode": {
   "interpreter": {
    "hash": "47ce790959d06f949a97dbfd06fd621572f81796024eefcf2465e31e88535f2a"
   }
  }
 },
 "nbformat": 4,
 "nbformat_minor": 2
}
