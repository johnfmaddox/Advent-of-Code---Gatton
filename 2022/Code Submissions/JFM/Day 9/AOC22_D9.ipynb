{
 "cells": [
  {
   "cell_type": "markdown",
   "metadata": {},
   "source": [
    "**--- Part One ---**"
   ]
  },
  {
   "cell_type": "code",
   "execution_count": 56,
   "metadata": {},
   "outputs": [],
   "source": [
    "## Select input data case\n",
    "## Note: this assumes a plain textfile named `input_{case}` is located in the same folder as this notebook\n",
    "case = \"example\" # <- input_example\n",
    "case = \"example_2\"\n",
    "case = \"jfm\"\n",
    "case = \"gatton\"\n",
    "\n",
    "# verbose output\n",
    "verbose = False\n",
    "\n",
    "import numpy as np\n",
    "from itertools import cycle\n",
    "\n",
    "# Read input\n",
    "with open(f'input_{case}','r') as f:\n",
    "    input_lines = f.readlines()\n",
    "\n",
    "import numpy as np\n",
    "\n",
    "dir_map = {'R':[0,1], 'U':[-1,0], 'D':[1,0], 'L':[0,-1]}\n",
    "\n",
    "class Head():\n",
    "    def __init__(self):\n",
    "        self.pos = np.array([0,0])\n",
    "\n",
    "class Tail():\n",
    "    def __init__(self):\n",
    "        self.pos = np.array([0,0])\n",
    "\n",
    "    def update(self,head_pos):\n",
    "        di,dj = head_pos - self.pos\n",
    "        # print(f'head: {head_pos};  tail: {self.pos}')\n",
    "        # print(f'{di=} {dj=}')\n",
    "        move = False\n",
    "        if di > 1: \n",
    "            move = True\n",
    "            di = 1\n",
    "        elif di < -1: \n",
    "            move = True\n",
    "            di = -1\n",
    "        if dj > 1: \n",
    "            move = True\n",
    "            dj = 1\n",
    "        elif dj < -1: \n",
    "            move = True\n",
    "            dj = -1\n",
    "        if move:\n",
    "            self.pos += [di,dj]\n",
    "        # print(f'tail: {self.pos}')\n",
    "\n",
    "\n",
    "class Rope():\n",
    "    def __init__(self, knots=2):\n",
    "        self.knots = [Head()]\n",
    "        for i in range(knots-1):\n",
    "            self.knots.append(Tail())\n",
    "        self.head = Head()\n",
    "        self.tail = Tail()\n",
    "        self.tail_positions = set()\n",
    "        self.record_tail_pos()\n",
    "        self.directions = []\n",
    "        for line in input_lines:\n",
    "            dir,dist = line.strip().split()\n",
    "            self.directions.append((dir,int(dist)))\n",
    "\n",
    "    def record_tail_pos(self):\n",
    "        self.tail_positions.add(tuple(self.knots[-1].pos))\n",
    "    \n",
    "    def show(self):\n",
    "        xvals = []\n",
    "        yvals = []\n",
    "        for i,j in self.tail_positions:\n",
    "            xvals.append(i)\n",
    "            yvals.append(j)\n",
    "        xmin = min(xvals)\n",
    "        ymin = min(yvals)\n",
    "        xmax = max(xvals)\n",
    "        ymax = max(yvals)\n",
    "        print(f'{xmin=} {xmax=} {ymin=} {ymax=}')\n",
    "        delx = xmax-xmin\n",
    "        dely = ymax-ymin\n",
    "        print(f'{delx=} {dely=}')\n",
    "        grid = np.zeros((delx, dely))\n",
    "        for i,j in self.tail_positions:\n",
    "            grid[i-xmin,j-ymin] = 1\n",
    "        grid[-xmin,-ymin] = 2\n",
    "        conv = {0:'.', 1:'#', 2:'s'}\n",
    "        for i,row in enumerate(grid):\n",
    "            print(''.join([conv[val] for j,val in enumerate(row)]))\n",
    "\n",
    "    def execute_directions(self):\n",
    "        for dir,dist in self.directions:\n",
    "            for i in range(dist):\n",
    "                self.knots[0].pos += dir_map[dir]\n",
    "                for i,knot in enumerate(self.knots[1:]):\n",
    "                    # print(f'knot {i}: {knot.pos}')\n",
    "                    knot.update(self.knots[i].pos)\n",
    "                self.record_tail_pos()\n",
    "            # print(f'dir: {dir};  dist: {dist}')\n"
   ]
  },
  {
   "cell_type": "code",
   "execution_count": 57,
   "metadata": {},
   "outputs": [
    {
     "name": "stdout",
     "output_type": "stream",
     "text": [
      "6197\n"
     ]
    }
   ],
   "source": [
    "rope = Rope(knots=2)\n",
    "rope.execute_directions()\n",
    "print(len(rope.tail_positions))\n"
   ]
  },
  {
   "cell_type": "markdown",
   "metadata": {},
   "source": [
    "**--- Part Two ---**"
   ]
  },
  {
   "cell_type": "code",
   "execution_count": 58,
   "metadata": {},
   "outputs": [
    {
     "name": "stdout",
     "output_type": "stream",
     "text": [
      "2562\n"
     ]
    }
   ],
   "source": [
    "rope = Rope(knots=10)\n",
    "rope.execute_directions()\n",
    "print(len(rope.tail_positions))"
   ]
  },
  {
   "cell_type": "code",
   "execution_count": null,
   "metadata": {},
   "outputs": [],
   "source": []
  }
 ],
 "metadata": {
  "kernelspec": {
   "display_name": "Python 3.8.5 ('base')",
   "language": "python",
   "name": "python3"
  },
  "language_info": {
   "codemirror_mode": {
    "name": "ipython",
    "version": 3
   },
   "file_extension": ".py",
   "mimetype": "text/x-python",
   "name": "python",
   "nbconvert_exporter": "python",
   "pygments_lexer": "ipython3",
   "version": "3.9.7"
  },
  "orig_nbformat": 4,
  "vscode": {
   "interpreter": {
    "hash": "47ce790959d06f949a97dbfd06fd621572f81796024eefcf2465e31e88535f2a"
   }
  }
 },
 "nbformat": 4,
 "nbformat_minor": 2
}
