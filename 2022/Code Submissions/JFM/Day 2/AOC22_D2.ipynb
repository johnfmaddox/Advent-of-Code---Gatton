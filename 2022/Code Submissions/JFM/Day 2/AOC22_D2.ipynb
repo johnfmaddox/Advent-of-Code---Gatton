{
 "cells": [
  {
   "cell_type": "markdown",
   "metadata": {},
   "source": [
    "**--- Day 2: Rock Paper Scissors ---**\n",
    "\n",
    "The Elves begin to set up camp on the beach. To decide whose tent gets to be closest to the snack storage, a giant [Rock Paper Scissors](https://en.wikipedia.org/wiki/Rock_paper_scissors) tournament is already in progress.\n",
    "\n",
    "Rock Paper Scissors is a game between two players. Each game contains many rounds; in each round, the players each simultaneously choose one of Rock, Paper, or Scissors using a hand shape. Then, a winner for that round is selected: Rock defeats Scissors, Scissors defeats Paper, and Paper defeats Rock. If both players choose the same shape, the round instead ends in a draw.\n",
    "\n",
    "Appreciative of your help yesterday, one Elf gives you an **encrypted strategy guide** (your puzzle input) that they say will be sure to help you win. \"The first column is what your opponent is going to play: `A` for Rock, `B` for Paper, and `C` for Scissors. The second column--\" Suddenly, the Elf is called away to help with someone's tent.\n",
    "\n",
    "The second column, you reason, must be what you should play in response: `X` for Rock, `Y` for Paper, and `Z` for Scissors. Winning every time would be suspicious, so the responses must have been carefully chosen.\n",
    "\n",
    "The winner of the whole tournament is the player with the highest score. Your **total score** is the sum of your scores for each round. The score for a single round is the score for the **shape you selected** (1 for Rock, 2 for Paper, and 3 for Scissors) plus the score for the **outcome of the round** (0 if you lost, 3 if the round was a draw, and 6 if you won).\n",
    "\n",
    "Since you can't be sure if the Elf is trying to help you or trick you, you should calculate the score you would get if you were to follow the strategy guide.\n",
    "\n",
    "For example, suppose you were given the following strategy guide:\n",
    "```\n",
    "A Y\n",
    "B X\n",
    "C Z\n",
    "```\n",
    "This strategy guide predicts and recommends the following:\n",
    "\n",
    "- In the first round, your opponent will choose Rock (`A`), and you should choose Paper (`Y`). This ends in a win for you with a score of **8** (2 because you chose Paper + 6 because you won).\n",
    "- In the second round, your opponent will choose Paper (`B`), and you should choose Rock (`X`). This ends in a loss for you with a score of **1** (1 + 0).\n",
    "- The third round is a draw with both players choosing Scissors, giving you a score of 3 + 3 = **6**.\n",
    "\n",
    "In this example, if you were to follow the strategy guide, you would get a total score of **15** (8 + 1 + 6).\n",
    "\n",
    "**What would your total score be if everything goes exactly according to your strategy guide?**"
   ]
  },
  {
   "cell_type": "code",
   "execution_count": 30,
   "metadata": {},
   "outputs": [
    {
     "name": "stdout",
     "output_type": "stream",
     "text": [
      "score: 15\n"
     ]
    }
   ],
   "source": [
    "# select input data case\n",
    "case = \"example\"\n",
    "#case = \"jfm\"\n",
    "#case = \"gatton\"\n",
    "\n",
    "# verbose output\n",
    "verbose = True\n",
    "\n",
    "# Read input into a list of strings by line\n",
    "with open(f'input_{case}','r') as f:\n",
    "    input_lines = f.readlines()\n",
    "\n",
    "input_list = [i.strip() for i in input]\n",
    "\n",
    "score = 0\n",
    "\n",
    "# Generate a `dictionary` of `key`:`value` pairs to match score outcomes to game inputs\n",
    "# The `keys` can be any immutable object, in this case the keys are `strings`` with 3 characters (2 letters and a space)\n",
    "# Calling the dictionary with the `key` will return the corresponding `value`\n",
    "vs_dict = {\n",
    "    'A X': 3, # rock/rock - draw\n",
    "    'A Y': 6, # rock/paper - win\n",
    "    'A Z': 0, # rock/scissor - lose\n",
    "    'B X': 0, # paper/rock - lose\n",
    "    'B Y': 3, # paper/paper - draw\n",
    "    'B Z': 6, # paper/scissor - win\n",
    "    'C X': 6, # scissor/rock - win\n",
    "    'C Y': 0, # scissor/paper - lose\n",
    "    'C Z': 3, # scissor/scissor - draw\n",
    "}\n",
    "\n",
    "# Generate a `dictionary` to match shape inputs to score outputs\n",
    "shape_dict = {\n",
    "    'X': 1,\n",
    "    'Y': 2,\n",
    "    'Z': 3,\n",
    "}\n",
    "\n",
    "# Iterate through each round of inputs\n",
    "for round in input_list:\n",
    "    # shape_dict[round[-1]] -> returns the score from the `shape_dict` dictionary using the last character in the `round` string\n",
    "    # vs_dict[round] -> returns the resulting score from the `vs_dict` dictionary\n",
    "    score += shape_dict[round[-1]] + vs_dict[round] # <- increment the total score after each round\n",
    "\n",
    "print(f'score: {score}')"
   ]
  },
  {
   "cell_type": "markdown",
   "metadata": {},
   "source": [
    "**--- Part Two ---**\n",
    "\n",
    "The Elf finishes helping with the tent and sneaks back over to you. \"Anyway, the second column says how the round needs to end: `X` means you need to lose, `Y` means you need to end the round in a draw, and `Z` means you need to win. Good luck!\"\n",
    "\n",
    "The total score is still calculated in the same way, but now you need to figure out what shape to choose so the round ends as indicated. The example above now goes like this:\n",
    "\n",
    "- In the first round, your opponent will choose Rock (`A`), and you need the round to end in a draw (`Y`), so you also choose Rock. This gives you a score of 1 + 3 = **4**.\n",
    "- In the second round, your opponent will choose Paper (B), and you choose Rock so you lose (X) with a score of 1 + 0 = **1**.\n",
    "- In the third round, you will defeat your opponent's Scissors with Rock for a score of 1 + 6 = **7**.\n",
    "\n",
    "Now that you're correctly decrypting the ultra top secret strategy guide, you would get a total score of **12**.\n",
    "\n",
    "Following the Elf's instructions for the second column, **what would your total score be if everything goes exactly according to your strategy guide?**"
   ]
  },
  {
   "cell_type": "code",
   "execution_count": 28,
   "metadata": {},
   "outputs": [
    {
     "name": "stdout",
     "output_type": "stream",
     "text": [
      "score: 12\n"
     ]
    }
   ],
   "source": [
    "# reset `score` counter\n",
    "score = 0\n",
    "\n",
    "# generate dictionaries for possible score outcomes\n",
    "win_dict = {\n",
    "    'A': 6 + 2,\n",
    "    'B': 6 + 3,\n",
    "    'C': 6 + 1\n",
    "}\n",
    "lose_dict = {\n",
    "    'A': 0 + 3,\n",
    "    'B': 0 + 1,\n",
    "    'C': 0 + 2\n",
    "}\n",
    "draw_dict = {\n",
    "    'A': 3 + 1,\n",
    "    'B': 3 + 2,\n",
    "    'C': 3 + 3\n",
    "}\n",
    "\n",
    "# iterate through each round in the `input_list`\n",
    "for round in input_list:\n",
    "    # Use `if/elif/else` structure to select desired outcome from strategy guide\n",
    "    # Note: `round[-1]` will be the last letter in the `round` string, i.e. `X`, `Y`, `Z`\n",
    "    #       `round[0]` will the first letter in the `round` string, i.e. `A`, `B`, `C`\n",
    "    if round[-1] == 'X':\n",
    "        score += lose_dict[round[0]]\n",
    "    elif round[-1] == 'Y':\n",
    "        score += draw_dict[round[0]]\n",
    "    else:\n",
    "        score += win_dict[round[0]]       \n",
    "        \n",
    "print(f'score: {score}')"
   ]
  }
 ],
 "metadata": {
  "kernelspec": {
   "display_name": "Python 3.8.5 ('base')",
   "language": "python",
   "name": "python3"
  },
  "language_info": {
   "codemirror_mode": {
    "name": "ipython",
    "version": 3
   },
   "file_extension": ".py",
   "mimetype": "text/x-python",
   "name": "python",
   "nbconvert_exporter": "python",
   "pygments_lexer": "ipython3",
   "version": "3.8.5"
  },
  "orig_nbformat": 4,
  "vscode": {
   "interpreter": {
    "hash": "47ce790959d06f949a97dbfd06fd621572f81796024eefcf2465e31e88535f2a"
   }
  }
 },
 "nbformat": 4,
 "nbformat_minor": 2
}
