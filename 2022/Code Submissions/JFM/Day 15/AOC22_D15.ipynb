{
 "cells": [
  {
   "cell_type": "markdown",
   "metadata": {},
   "source": [
    "**--- Part One ---**"
   ]
  },
  {
   "cell_type": "code",
   "execution_count": 1,
   "metadata": {},
   "outputs": [],
   "source": [
    "## Select input data case\n",
    "## Note: this assumes a plain textfile named `input_{case}` is located in the same folder as this notebook\n",
    "case = \"example\" # <- input_example\n",
    "case = \"jfm\"\n",
    "case = \"gatton\"\n",
    "# \n",
    "# verbose output\n",
    "verbose = False\n",
    "\n",
    "import numpy as np\n",
    "from itertools import cycle\n",
    "\n",
    "# Read input\n",
    "with open(f'input_{case}','r') as f:\n",
    "    input_lines = f.readlines()\n",
    "\n",
    "import numpy as np\n",
    "import multiprocessing as mp\n",
    "from tqdm.notebook import tqdm\n",
    "\n",
    "class Sensor():\n",
    "    def __init__(self, string):\n",
    "        string = string.strip()\n",
    "        s,b = string.split(':')\n",
    "        \n",
    "        s = ''.join(s.split(' ')[-2:])\n",
    "        sj, si = s.split(',')\n",
    "        si = int(si.split('=')[-1])\n",
    "        sj = int(sj.split('=')[-1])\n",
    "\n",
    "        b = ''.join(b.split(' ')[-2:])\n",
    "        bj, bi = b.split(',')\n",
    "        bi = int(bi.split('=')[-1])\n",
    "        bj = int(bj.split('=')[-1])\n",
    "        \n",
    "        self.pos = np.array([si,sj])\n",
    "        self.beacon = np.array([bi,bj])\n",
    "        self.dist = abs(si-bi) + abs(sj-bj)\n",
    "        self.rangei = [self.pos[0]-self.dist, self.pos[0]+self.dist]\n",
    "        self.rangej = [self.pos[1]-self.dist, self.pos[1]+self.dist]\n",
    "\n",
    "    def update_pos(self,delta):\n",
    "        self.pos -= delta\n",
    "        self.beacon -= delta\n",
    "        self.rangei = [self.pos[0]-self.dist, self.pos[0]+self.dist]\n",
    "        self.rangej = [self.pos[1]-self.dist, self.pos[1]+self.dist]\n",
    "    \n",
    "    def update_outside_range(self):\n",
    "        i,j = self.pos\n",
    "        dist = self.dist\n",
    "        points = [[i+dist+1, j],[i-dist-1, j]]\n",
    "        print(f'updating sensor: {self.pos}')\n",
    "        for i in tqdm(range(self.rangei[0], self.rangei[1]+1)):\n",
    "            delta = dist - abs(self.pos[0]-i)+1\n",
    "            points.append([i,j-delta])\n",
    "            points.append([i,j+delta])\n",
    "        self.outside_range = points\n",
    "\n",
    "conv = {0:'.', 1:'#', 2:'S', 3:'B'}\n",
    "\n",
    "class Grid():\n",
    "    def __init__(self, start=None):\n",
    "        self.finished = False\n",
    "        self.sensors = []\n",
    "        for line in input_lines:\n",
    "            self.sensors.append(Sensor(line.strip()))\n",
    "        self.imin = min([s.rangei[0] for s in self.sensors])\n",
    "        self.jmin = min([s.rangej[0] for s in self.sensors])\n",
    "        self.imax = max([s.rangei[1] for s in self.sensors])\n",
    "        self.jmax = max([s.rangej[1] for s in self.sensors])\n",
    "\n",
    "        # # print(f'({imin},{jmin}) to ({imax},{jmax})')\n",
    "        # deli = self.imax-self.imin\n",
    "        # delj = self.jmax-self.jmin\n",
    "\n",
    "        #self.grid = np.zeros([deli+1,delj+1])\n",
    "\n",
    "        for s in self.sensors:\n",
    "        #     # print(f'{s.pos} -> {s.pos+(imin,jmin)}')\n",
    "            s.update_pos((self.imin,self.jmin))\n",
    "            s.update_outside_range()\n",
    "            # s.pos -= (self.imin,self.jmin)\n",
    "            # s.beacon -= (self.imin,self.jmin)\n",
    "        #     self.grid[tuple(s.pos)] = 2\n",
    "        #     self.grid[tuple(s.beacon)] = 3\n",
    "\n",
    "    def covered_by(self, pos, sensor):\n",
    "        dist = abs(sensor.pos[0]-pos[0]) + abs(sensor.pos[1]-pos[1])\n",
    "        # print(f'{pos} <-> {sensor.pos}: {dist} <= {sensor.dist}')\n",
    "        return dist <= sensor.dist\n",
    "\n",
    "    def check_row(self, row_idx):\n",
    "        #row_idx -= self.imin\n",
    "        # print(f'{row_idx=}')\n",
    "        row = np.zeros([self.jmax-self.jmin+1])\n",
    "        # print(len(self.sensors))\n",
    "        sensors = [s for s in self.sensors if s.rangei[0]<=row_idx<=s.rangei[1]]\n",
    "        # print(len(sensors))\n",
    "        for s in sensors:\n",
    "            vert_dist = abs(s.pos[0]-row_idx)\n",
    "            row_dist = abs(s.dist-vert_dist)\n",
    "            start = s.pos[1]-row_dist\n",
    "            end = s.pos[1]+row_dist+1\n",
    "            row[start:end] = 1\n",
    "            if s.pos[0] == row_idx: row[s.pos[1]] = 2\n",
    "            if s.beacon[0] == row_idx: row[s.beacon[1]] = 3\n",
    "            # print(f'{vert_dist=}, {row_dist=}, {start=}, {end=}')\n",
    "        for s in sensors:\n",
    "            # print(f'sensor: {s.pos}; beacon: {s.beacon}')\n",
    "            if s.pos[0] == row_idx: row[s.pos[1]] = 2\n",
    "            if s.beacon[0] == row_idx:\n",
    "                # print(f'added beacon: {s.beacon[1]}') \n",
    "                row[s.beacon[1]] = 3\n",
    "        return row\n",
    "    \n",
    "    def check_row_for_open(self, row_idx):\n",
    "        print(f'checking row: {row_idx}')\n",
    "        if self.finished: \n",
    "            return 0\n",
    "        row = self.check_row(row_idx)[self.start[1]:self.end[1]+1]\n",
    "        search = np.where(row==0)\n",
    "        if len(search[0]):\n",
    "            y = row_idx + self.imin\n",
    "            x = row_idx + self.jmin +1\n",
    "            freq = 4000000*x + y\n",
    "            print(f'{x=}, {y=}: {freq}')\n",
    "            self.finished = True\n",
    "            return freq\n",
    "        return 0\n",
    "\n",
    "    def count_blocked(self, row_idx):\n",
    "        row = self.check_row(row_idx)\n",
    "        search = np.where(row == 1)\n",
    "        return len(search[0])\n",
    "    \n",
    "    def find_option_parallel(self, max_idx=20):\n",
    "        pool = mp.Pool(mp.cpu_count()-1)\n",
    "        self.start = np.array((0,0)) - (self.imin,self.jmin)\n",
    "        self.end = np.array((max_idx,max_idx)) - (self.imin,self.jmin)\n",
    "        results = [pool.apply_async(self.check_row_for_open, args=(row_idx)) for row_idx in range(self.start[0],self.end[0]+1)]\n",
    "        results = [r.get()[1] for r in results]\n",
    "        pool.close()\n",
    "        # results = [pool.apply(self.check_row_for_open, args=(row_idx, start, end)) for row_idx in range(start[0],end[0]+1)]\n",
    "        return results\n",
    "\n",
    "    def find_option(self, max_idx=20):\n",
    "        start = np.array((0,0)) - (self.imin,self.jmin)\n",
    "        self.start = start\n",
    "        end = np.array((max_idx,max_idx)) - (self.imin,self.jmin)\n",
    "        self.end = end\n",
    "        n_show = 100\n",
    "        n_rows = end[0]-start[0]\n",
    "        print(f'searching rows: {start[0]} through {end[0]}')\n",
    "        for row_idx in range(start[0],end[0]+1):\n",
    "            if not row_idx%n_show:\n",
    "                print(f'checking row: {row_idx} ({(row_idx-start[0])/(end[0]-start[0])*100}%)')\n",
    "            # self.check_row_for_open(row_idx)\n",
    "            row = self.check_row(row_idx)[start[1]:end[1]+1]\n",
    "            # print(f'row: {row_idx}\\n{row}')\n",
    "            search = np.where(row==0)\n",
    "            if len(search[0]):\n",
    "                y = row_idx + self.imin\n",
    "                x = row_idx + self.jmin +1\n",
    "                freq = 4000000*x + y\n",
    "                print(f'{x=}, {y=}: {freq}')\n",
    "                return freq\n",
    "\n",
    "\n",
    "    # def check_row(self, row_idx):\n",
    "    #     row_idx -= self.imin\n",
    "    #     for j,val in enumerate(self.grid[row_idx,:]):\n",
    "    #         if val > 0:\n",
    "    #             continue\n",
    "    #         pos = np.array((row_idx, j))\n",
    "    #         # print(f'checking: {pos}')\n",
    "    #         for s in self.sensors:\n",
    "    #             # print(f'    against: {s.pos}')\n",
    "    #             if self.covered_by(pos, s):\n",
    "    #                 self.grid[tuple(pos)] = 1\n",
    "    #                 break\n",
    "\n",
    "    # def count_row(self, row_idx):\n",
    "    #     row_idx -= self.imin\n",
    "    #     search = np.where(self.grid[row_idx,:]==1)\n",
    "    #     return len(search[0])\n",
    "\n",
    "    def show(self):\n",
    "        for row in self.grid:\n",
    "            print(f\"{''.join([conv[val] for val in row])}\")\n",
    "        # self.grid = np.array([[abc[val] for val in row.strip()] for row in input_lines])\n",
    "        # if start is not None:\n",
    "        #     self.start = np.array(start)"
   ]
  },
  {
   "cell_type": "code",
   "execution_count": 2,
   "metadata": {},
   "outputs": [
    {
     "name": "stdout",
     "output_type": "stream",
     "text": [
      "updating sensor: [3854619 5612147]\n"
     ]
    },
    {
     "data": {
      "application/vnd.jupyter.widget-view+json": {
       "model_id": "27fa787e96604b38af11e3c774f78cc6",
       "version_major": 2,
       "version_minor": 0
      },
      "text/plain": [
       "  0%|          | 0/776261 [00:00<?, ?it/s]"
      ]
     },
     "metadata": {},
     "output_type": "display_data"
    },
    {
     "name": "stdout",
     "output_type": "stream",
     "text": [
      "updating sensor: [4308102 2364317]\n"
     ]
    },
    {
     "data": {
      "application/vnd.jupyter.widget-view+json": {
       "model_id": "41f0bcb56e8740f59a932b9993e0a9bc",
       "version_major": 2,
       "version_minor": 0
      },
      "text/plain": [
       "  0%|          | 0/2253067 [00:00<?, ?it/s]"
      ]
     },
     "metadata": {},
     "output_type": "display_data"
    },
    {
     "name": "stdout",
     "output_type": "stream",
     "text": [
      "updating sensor: [3736672 1818087]\n"
     ]
    },
    {
     "data": {
      "application/vnd.jupyter.widget-view+json": {
       "model_id": "2919e0de53654b1c869a2ed88b63cd77",
       "version_major": 2,
       "version_minor": 0
      },
      "text/plain": [
       "  0%|          | 0/119287 [00:00<?, ?it/s]"
      ]
     },
     "metadata": {},
     "output_type": "display_data"
    },
    {
     "name": "stdout",
     "output_type": "stream",
     "text": [
      "updating sensor: [3238958 5594759]\n"
     ]
    },
    {
     "data": {
      "application/vnd.jupyter.widget-view+json": {
       "model_id": "0e7739119d294aa8bef1fd4e14e5e3db",
       "version_major": 2,
       "version_minor": 0
      },
      "text/plain": [
       "  0%|          | 0/647491 [00:00<?, ?it/s]"
      ]
     },
     "metadata": {},
     "output_type": "display_data"
    },
    {
     "name": "stdout",
     "output_type": "stream",
     "text": [
      "updating sensor: [1986402 1754357]\n"
     ]
    },
    {
     "data": {
      "application/vnd.jupyter.widget-view+json": {
       "model_id": "07ce58ed70414bc5a80ce60996d8ad90",
       "version_major": 2,
       "version_minor": 0
      },
      "text/plain": [
       "  0%|          | 0/3508715 [00:00<?, ?it/s]"
      ]
     },
     "metadata": {},
     "output_type": "display_data"
    },
    {
     "name": "stdout",
     "output_type": "stream",
     "text": [
      "updating sensor: [3960687 4825790]\n"
     ]
    },
    {
     "data": {
      "application/vnd.jupyter.widget-view+json": {
       "model_id": "6a81da6aee4a42bf87f3a59685524c4a",
       "version_major": 2,
       "version_minor": 0
      },
      "text/plain": [
       "  0%|          | 0/908135 [00:00<?, ?it/s]"
      ]
     },
     "metadata": {},
     "output_type": "display_data"
    },
    {
     "name": "stdout",
     "output_type": "stream",
     "text": [
      "updating sensor: [3760775 1721482]\n"
     ]
    },
    {
     "data": {
      "application/vnd.jupyter.widget-view+json": {
       "model_id": "2ed8a63f85ed4d80b8ebcf984bff3377",
       "version_major": 2,
       "version_minor": 0
      },
      "text/plain": [
       "  0%|          | 0/213515 [00:00<?, ?it/s]"
      ]
     },
     "metadata": {},
     "output_type": "display_data"
    },
    {
     "name": "stdout",
     "output_type": "stream",
     "text": [
      "updating sensor: [4529487 4961106]\n"
     ]
    },
    {
     "data": {
      "application/vnd.jupyter.widget-view+json": {
       "model_id": "0e30296fe58645068f124cab66d3b84d",
       "version_major": 2,
       "version_minor": 0
      },
      "text/plain": [
       "  0%|          | 0/1418695 [00:00<?, ?it/s]"
      ]
     },
     "metadata": {},
     "output_type": "display_data"
    },
    {
     "name": "stdout",
     "output_type": "stream",
     "text": [
      "updating sensor: [1213288 4614642]\n"
     ]
    },
    {
     "data": {
      "application/vnd.jupyter.widget-view+json": {
       "model_id": "2e5a8aac323546d2be03d4c55d4f4f09",
       "version_major": 2,
       "version_minor": 0
      },
      "text/plain": [
       "  0%|          | 0/1588083 [00:00<?, ?it/s]"
      ]
     },
     "metadata": {},
     "output_type": "display_data"
    },
    {
     "name": "stdout",
     "output_type": "stream",
     "text": [
      "updating sensor: [3854178 1691609]\n"
     ]
    },
    {
     "data": {
      "application/vnd.jupyter.widget-view+json": {
       "model_id": "a4c9f31244c640ce99cd7ed202d06759",
       "version_major": 2,
       "version_minor": 0
      },
      "text/plain": [
       "  0%|          | 0/460067 [00:00<?, ?it/s]"
      ]
     },
     "metadata": {},
     "output_type": "display_data"
    },
    {
     "name": "stdout",
     "output_type": "stream",
     "text": [
      "updating sensor: [3553475 5229089]\n"
     ]
    },
    {
     "data": {
      "application/vnd.jupyter.widget-view+json": {
       "model_id": "4fc9e17585064435a57a4137e6df2ced",
       "version_major": 2,
       "version_minor": 0
      },
      "text/plain": [
       "  0%|          | 0/712885 [00:00<?, ?it/s]"
      ]
     },
     "metadata": {},
     "output_type": "display_data"
    },
    {
     "name": "stdout",
     "output_type": "stream",
     "text": [
      "updating sensor: [3146506 5363443]\n"
     ]
    },
    {
     "data": {
      "application/vnd.jupyter.widget-view+json": {
       "model_id": "b1da1d9bdeb74d0fab8af184bd63b03d",
       "version_major": 2,
       "version_minor": 0
      },
      "text/plain": [
       "  0%|          | 0/214675 [00:00<?, ?it/s]"
      ]
     },
     "metadata": {},
     "output_type": "display_data"
    },
    {
     "name": "stdout",
     "output_type": "stream",
     "text": [
      "updating sensor: [3111724 5382340]\n"
     ]
    },
    {
     "data": {
      "application/vnd.jupyter.widget-view+json": {
       "model_id": "90101f16a1ea44da9529ec1c98352fac",
       "version_major": 2,
       "version_minor": 0
      },
      "text/plain": [
       "  0%|          | 0/107317 [00:00<?, ?it/s]"
      ]
     },
     "metadata": {},
     "output_type": "display_data"
    },
    {
     "name": "stdout",
     "output_type": "stream",
     "text": [
      "updating sensor: [3376323 5558317]\n"
     ]
    },
    {
     "data": {
      "application/vnd.jupyter.widget-view+json": {
       "model_id": "a9d772f3baf840138d59c22a16d4e674",
       "version_major": 2,
       "version_minor": 0
      },
      "text/plain": [
       "  0%|          | 0/299877 [00:00<?, ?it/s]"
      ]
     },
     "metadata": {},
     "output_type": "display_data"
    },
    {
     "name": "stdout",
     "output_type": "stream",
     "text": [
      "updating sensor: [3880776 4355133]\n"
     ]
    },
    {
     "data": {
      "application/vnd.jupyter.widget-view+json": {
       "model_id": "791f886256ef4ee8a263865218bb6502",
       "version_major": 2,
       "version_minor": 0
      },
      "text/plain": [
       "  0%|          | 0/645627 [00:00<?, ?it/s]"
      ]
     },
     "metadata": {},
     "output_type": "display_data"
    },
    {
     "name": "stdout",
     "output_type": "stream",
     "text": [
      "updating sensor: [3686331 1689126]\n"
     ]
    },
    {
     "data": {
      "application/vnd.jupyter.widget-view+json": {
       "model_id": "0e8c7b66bf7445fba61bf66db70e1efa",
       "version_major": 2,
       "version_minor": 0
      },
      "text/plain": [
       "  0%|          | 0/239319 [00:00<?, ?it/s]"
      ]
     },
     "metadata": {},
     "output_type": "display_data"
    },
    {
     "name": "stdout",
     "output_type": "stream",
     "text": [
      "updating sensor: [4976687 4398916]\n"
     ]
    },
    {
     "data": {
      "application/vnd.jupyter.widget-view+json": {
       "model_id": "f7da642adcc946419723f72532894f67",
       "version_major": 2,
       "version_minor": 0
      },
      "text/plain": [
       "  0%|          | 0/1977615 [00:00<?, ?it/s]"
      ]
     },
     "metadata": {},
     "output_type": "display_data"
    },
    {
     "name": "stdout",
     "output_type": "stream",
     "text": [
      "updating sensor: [5055682 1717608]\n"
     ]
    },
    {
     "data": {
      "application/vnd.jupyter.widget-view+json": {
       "model_id": "8a98c4dc4c6c44379fe9f75cc26d1724",
       "version_major": 2,
       "version_minor": 0
      },
      "text/plain": [
       "  0%|          | 0/2454809 [00:00<?, ?it/s]"
      ]
     },
     "metadata": {},
     "output_type": "display_data"
    },
    {
     "name": "stdout",
     "output_type": "stream",
     "text": [
      "updating sensor: [3484062 5678848]\n"
     ]
    },
    {
     "data": {
      "application/vnd.jupyter.widget-view+json": {
       "model_id": "4fd82867d29c4f16adfd304ed6c1b017",
       "version_major": 2,
       "version_minor": 0
      },
      "text/plain": [
       "  0%|          | 0/325461 [00:00<?, ?it/s]"
      ]
     },
     "metadata": {},
     "output_type": "display_data"
    },
    {
     "name": "stdout",
     "output_type": "stream",
     "text": [
      "updating sensor: [2093360 5541986]\n"
     ]
    },
    {
     "data": {
      "application/vnd.jupyter.widget-view+json": {
       "model_id": "94ee130c605149dd919b59a33a20535a",
       "version_major": 2,
       "version_minor": 0
      },
      "text/plain": [
       "  0%|          | 0/2248705 [00:00<?, ?it/s]"
      ]
     },
     "metadata": {},
     "output_type": "display_data"
    },
    {
     "name": "stdout",
     "output_type": "stream",
     "text": [
      "updating sensor: [5083678 2920467]\n"
     ]
    },
    {
     "data": {
      "application/vnd.jupyter.widget-view+json": {
       "model_id": "03b72af93ba5400f84b2561fec367ae7",
       "version_major": 2,
       "version_minor": 0
      },
      "text/plain": [
       "  0%|          | 0/1513853 [00:00<?, ?it/s]"
      ]
     },
     "metadata": {},
     "output_type": "display_data"
    },
    {
     "name": "stdout",
     "output_type": "stream",
     "text": [
      "updating sensor: [1959375 3772303]\n"
     ]
    },
    {
     "data": {
      "application/vnd.jupyter.widget-view+json": {
       "model_id": "62532f5541b94432b2b4c6dc1aee4e27",
       "version_major": 2,
       "version_minor": 0
      },
      "text/plain": [
       "  0%|          | 0/3500359 [00:00<?, ?it/s]"
      ]
     },
     "metadata": {},
     "output_type": "display_data"
    },
    {
     "name": "stdout",
     "output_type": "stream",
     "text": [
      "updating sensor: [3231159 3005908]\n"
     ]
    },
    {
     "data": {
      "application/vnd.jupyter.widget-view+json": {
       "model_id": "4fef662ceff447599cc0b714efa9ea23",
       "version_major": 2,
       "version_minor": 0
      },
      "text/plain": [
       "  0%|          | 0/3352059 [00:00<?, ?it/s]"
      ]
     },
     "metadata": {},
     "output_type": "display_data"
    },
    {
     "name": "stdout",
     "output_type": "stream",
     "text": [
      "updating sensor: [3103110 5401509]\n"
     ]
    },
    {
     "data": {
      "application/vnd.jupyter.widget-view+json": {
       "model_id": "16347e414b514be7ab2baef45d5ad2d5",
       "version_major": 2,
       "version_minor": 0
      },
      "text/plain": [
       "  0%|          | 0/51751 [00:00<?, ?it/s]"
      ]
     },
     "metadata": {},
     "output_type": "display_data"
    },
    {
     "name": "stdout",
     "output_type": "stream",
     "text": [
      "updating sensor: [1107984 2651689]\n"
     ]
    },
    {
     "data": {
      "application/vnd.jupyter.widget-view+json": {
       "model_id": "086f3bbe5bb7464da74c25b2817b258b",
       "version_major": 2,
       "version_minor": 0
      },
      "text/plain": [
       "  0%|          | 0/1181233 [00:00<?, ?it/s]"
      ]
     },
     "metadata": {},
     "output_type": "display_data"
    },
    {
     "name": "stdout",
     "output_type": "stream",
     "text": [
      "updating sensor: [1148394 5360601]\n"
     ]
    },
    {
     "data": {
      "application/vnd.jupyter.widget-view+json": {
       "model_id": "b5dc3aefdb0b4de3a53f483f57fb7ccd",
       "version_major": 2,
       "version_minor": 0
      },
      "text/plain": [
       "  0%|          | 0/2296789 [00:00<?, ?it/s]"
      ]
     },
     "metadata": {},
     "output_type": "display_data"
    },
    {
     "name": "stdout",
     "output_type": "stream",
     "text": [
      "updating sensor: [3306732 4797699]\n"
     ]
    },
    {
     "data": {
      "application/vnd.jupyter.widget-view+json": {
       "model_id": "2e35cbf8fa4b443787a8e1b524775ae7",
       "version_major": 2,
       "version_minor": 0
      },
      "text/plain": [
       "  0%|          | 0/1451019 [00:00<?, ?it/s]"
      ]
     },
     "metadata": {},
     "output_type": "display_data"
    },
    {
     "name": "stdout",
     "output_type": "stream",
     "text": [
      "updating sensor: [2601759 4907524]\n"
     ]
    },
    {
     "data": {
      "application/vnd.jupyter.widget-view+json": {
       "model_id": "824994856a6c4376866506ce3ebad18e",
       "version_major": 2,
       "version_minor": 0
      },
      "text/plain": [
       "  0%|          | 0/1967343 [00:00<?, ?it/s]"
      ]
     },
     "metadata": {},
     "output_type": "display_data"
    },
    {
     "name": "stdout",
     "output_type": "stream",
     "text": [
      "updating sensor: [5071990 5545411]\n"
     ]
    },
    {
     "data": {
      "application/vnd.jupyter.widget-view+json": {
       "model_id": "4d582841151c4b0498139a44c4b9d95a",
       "version_major": 2,
       "version_minor": 0
      },
      "text/plain": [
       "  0%|          | 0/2251611 [00:00<?, ?it/s]"
      ]
     },
     "metadata": {},
     "output_type": "display_data"
    },
    {
     "name": "stdout",
     "output_type": "stream",
     "text": [
      "updating sensor: [4477128 3601330]\n"
     ]
    },
    {
     "data": {
      "application/vnd.jupyter.widget-view+json": {
       "model_id": "4f34abadb34d49f89ad528fcc42ea611",
       "version_major": 2,
       "version_minor": 0
      },
      "text/plain": [
       "  0%|          | 0/2573669 [00:00<?, ?it/s]"
      ]
     },
     "metadata": {},
     "output_type": "display_data"
    },
    {
     "name": "stdout",
     "output_type": "stream",
     "text": [
      "updating sensor: [4184444 5286254]\n"
     ]
    },
    {
     "data": {
      "application/vnd.jupyter.widget-view+json": {
       "model_id": "44f850a1fca647e3b073bd261392618d",
       "version_major": 2,
       "version_minor": 0
      },
      "text/plain": [
       "  0%|          | 0/1281513 [00:00<?, ?it/s]"
      ]
     },
     "metadata": {},
     "output_type": "display_data"
    },
    {
     "data": {
      "text/plain": [
       "4665948"
      ]
     },
     "execution_count": 2,
     "metadata": {},
     "output_type": "execute_result"
    }
   ],
   "source": [
    "grid = Grid()\n",
    "row = 2000000 - grid.imin\n",
    "# row = 10 - grid.imin\n",
    "grid.count_blocked(row)"
   ]
  },
  {
   "cell_type": "markdown",
   "metadata": {},
   "source": [
    "**--- Part Two ---**"
   ]
  },
  {
   "cell_type": "code",
   "execution_count": null,
   "metadata": {},
   "outputs": [],
   "source": [
    "#grid = Grid()\n",
    "print('grid built')\n",
    "possible_locs = set()\n",
    "maxidx = 4000000 # Actual\n",
    "mini,minj = np.array((0,0)) - (grid.imin, grid.jmin)\n",
    "maxi,maxj = np.array((maxidx, maxidx)) - (grid.imin, grid.jmin) \n",
    "for s in tqdm(grid.sensors):\n",
    "    # print(f'building points for sensor {s.pos}')\n",
    "    for point in s.outside_range:\n",
    "        possible_locs.add(tuple(point))\n",
    "print('checking points')\n",
    "for point in tqdm(possible_locs):\n",
    "    if (point[0]<mini or point[1]<minj or\n",
    "        point[0]>maxi or point[1]>maxj):\n",
    "        # print('out of range')\n",
    "        continue\n",
    "    covered = False\n",
    "    for s in tqdm(grid.sensors):\n",
    "        if grid.covered_by(point, s):\n",
    "            # print(f'{point} covered')\n",
    "            covered = True\n",
    "            break\n",
    "    if covered == False:\n",
    "        y = point[0] + grid.imin\n",
    "        x = point[1] + grid.jmin \n",
    "        freq = 4000000*x + y\n",
    "        print(f'{x=}, {y=}: {freq}')\n",
    "        print(point)\n",
    "        break"
   ]
  },
  {
   "cell_type": "code",
   "execution_count": 5,
   "metadata": {},
   "outputs": [
    {
     "name": "stdout",
     "output_type": "stream",
     "text": [
      "checking points\n"
     ]
    },
    {
     "data": {
      "application/vnd.jupyter.widget-view+json": {
       "model_id": "6e4de9f196bb4754b1c648a4785291c4",
       "version_major": 2,
       "version_minor": 0
      },
      "text/plain": [
       "  0%|          | 0/82798166 [00:00<?, ?it/s]"
      ]
     },
     "metadata": {},
     "output_type": "display_data"
    },
    {
     "name": "stdout",
     "output_type": "stream",
     "text": [
      "x=3385922, y=2671045: 1658786757\n",
      "(3755385, 5074556)\n"
     ]
    },
    {
     "name": "stderr",
     "output_type": "stream",
     "text": [
      "C:\\Users\\jackm\\AppData\\Local\\Temp/ipykernel_51828/1522754895.py:16: RuntimeWarning: overflow encountered in long_scalars\n",
      "  freq = 4000000*x + y\n"
     ]
    }
   ],
   "source": [
    "print('checking points')\n",
    "for point in tqdm(possible_locs):\n",
    "    if (point[0]<mini or point[1]<minj or\n",
    "        point[0]>maxi or point[1]>maxj):\n",
    "        # print('out of range')\n",
    "        continue\n",
    "    covered = False\n",
    "    for s in grid.sensors:\n",
    "        if grid.covered_by(point, s):\n",
    "            # print(f'{point} covered')\n",
    "            covered = True\n",
    "            break\n",
    "    if covered == False:\n",
    "        y = point[0] + grid.imin\n",
    "        x = point[1] + grid.jmin \n",
    "        freq = 4000000*x + y\n",
    "        print(f'{x=}, {y=}: {freq}')\n",
    "        print(point)\n",
    "        break"
   ]
  },
  {
   "cell_type": "code",
   "execution_count": null,
   "metadata": {},
   "outputs": [],
   "source": [
    "# JFM\n",
    "x=2889605\n",
    "y=3398893\n",
    "sx = str(x*4)\n",
    "sy = str(y)\n",
    "print(len(sy))\n",
    "print(sx[-1])\n",
    "if len(sy)>6 and sx[-1]=='0':\n",
    "    s = sx[:-1]+sy\n",
    "s"
   ]
  },
  {
   "cell_type": "code",
   "execution_count": 12,
   "metadata": {},
   "outputs": [
    {
     "name": "stdout",
     "output_type": "stream",
     "text": [
      "7\n",
      "8\n",
      "13543688\n",
      "2671045\n"
     ]
    },
    {
     "data": {
      "text/plain": [
       "'13543690671045'"
      ]
     },
     "execution_count": 12,
     "metadata": {},
     "output_type": "execute_result"
    }
   ],
   "source": [
    "# Gatton\n",
    "x=3385922\n",
    "y=2671045\n",
    "sx = str(x*4)\n",
    "sy = str(y)\n",
    "print(len(sy))\n",
    "print(sx[-1])\n",
    "print(sx)\n",
    "print(sy)\n",
    "if len(sy)>6 and sx[-1]=='0':\n",
    "    s = sx[:-1]+sy\n",
    "else:\n",
    "    sx = str(int(sx)+int(sy[0]))\n",
    "    s = sx+sy[1:]\n",
    "s"
   ]
  },
  {
   "cell_type": "code",
   "execution_count": 15,
   "metadata": {},
   "outputs": [
    {
     "data": {
      "text/plain": [
       "'56000011'"
      ]
     },
     "execution_count": 15,
     "metadata": {},
     "output_type": "execute_result"
    }
   ],
   "source": [
    "x=14\n",
    "y=11\n",
    "sy = str(y)\n",
    "s = str(x*4)+'0'*(6-len(sy))+str(y)\n",
    "s"
   ]
  },
  {
   "cell_type": "code",
   "execution_count": null,
   "metadata": {},
   "outputs": [],
   "source": []
  },
  {
   "cell_type": "code",
   "execution_count": 11,
   "metadata": {},
   "outputs": [
    {
     "name": "stdout",
     "output_type": "stream",
     "text": [
      "searching rows: 1877632 through 5877632\n",
      "checking row: 1877700 (0.0017%)\n",
      "checking row: 1877800 (0.0042%)\n",
      "checking row: 1877900 (0.0067%)\n",
      "checking row: 1878000 (0.0092%)\n",
      "checking row: 1878100 (0.0117%)\n",
      "checking row: 1878200 (0.0142%)\n",
      "checking row: 1878300 (0.0167%)\n",
      "checking row: 1878400 (0.019200000000000002%)\n",
      "checking row: 1878500 (0.0217%)\n",
      "checking row: 1878600 (0.0242%)\n",
      "checking row: 1878700 (0.026699999999999998%)\n",
      "checking row: 1878800 (0.0292%)\n",
      "checking row: 1878900 (0.0317%)\n",
      "checking row: 1879000 (0.0342%)\n",
      "checking row: 1879100 (0.036699999999999997%)\n",
      "checking row: 1879200 (0.0392%)\n",
      "checking row: 1879300 (0.0417%)\n",
      "checking row: 1879400 (0.0442%)\n",
      "checking row: 1879500 (0.046700000000000005%)\n",
      "checking row: 1879600 (0.0492%)\n",
      "checking row: 1879700 (0.051699999999999996%)\n",
      "checking row: 1879800 (0.0542%)\n",
      "checking row: 1879900 (0.0567%)\n",
      "checking row: 1880000 (0.059199999999999996%)\n",
      "checking row: 1880100 (0.061700000000000005%)\n",
      "checking row: 1880200 (0.0642%)\n",
      "checking row: 1880300 (0.0667%)\n",
      "checking row: 1880400 (0.0692%)\n",
      "checking row: 1880500 (0.0717%)\n",
      "checking row: 1880600 (0.0742%)\n",
      "checking row: 1880700 (0.0767%)\n",
      "checking row: 1880800 (0.07919999999999999%)\n",
      "checking row: 1880900 (0.0817%)\n",
      "checking row: 1881000 (0.0842%)\n",
      "checking row: 1881100 (0.0867%)\n",
      "checking row: 1881200 (0.0892%)\n",
      "checking row: 1881300 (0.09169999999999999%)\n",
      "checking row: 1881400 (0.0942%)\n",
      "checking row: 1881500 (0.0967%)\n",
      "checking row: 1881600 (0.09920000000000001%)\n",
      "checking row: 1881700 (0.10169999999999998%)\n",
      "checking row: 1881800 (0.1042%)\n",
      "checking row: 1881900 (0.1067%)\n",
      "checking row: 1882000 (0.1092%)\n",
      "checking row: 1882100 (0.1117%)\n",
      "checking row: 1882200 (0.1142%)\n",
      "checking row: 1882300 (0.11670000000000001%)\n",
      "checking row: 1882400 (0.11919999999999999%)\n",
      "checking row: 1882500 (0.1217%)\n",
      "checking row: 1882600 (0.1242%)\n",
      "checking row: 1882700 (0.12669999999999998%)\n",
      "checking row: 1882800 (0.1292%)\n",
      "checking row: 1882900 (0.1317%)\n",
      "checking row: 1883000 (0.1342%)\n",
      "checking row: 1883100 (0.1367%)\n",
      "checking row: 1883200 (0.1392%)\n",
      "checking row: 1883300 (0.14170000000000002%)\n",
      "checking row: 1883400 (0.1442%)\n",
      "checking row: 1883500 (0.1467%)\n",
      "checking row: 1883600 (0.1492%)\n",
      "checking row: 1883700 (0.1517%)\n",
      "checking row: 1883800 (0.1542%)\n",
      "checking row: 1883900 (0.1567%)\n",
      "checking row: 1884000 (0.1592%)\n",
      "checking row: 1884100 (0.16169999999999998%)\n",
      "checking row: 1884200 (0.1642%)\n",
      "checking row: 1884300 (0.16670000000000001%)\n",
      "checking row: 1884400 (0.1692%)\n",
      "checking row: 1884500 (0.1717%)\n",
      "checking row: 1884600 (0.1742%)\n",
      "checking row: 1884700 (0.1767%)\n",
      "checking row: 1884800 (0.1792%)\n",
      "checking row: 1884900 (0.1817%)\n",
      "checking row: 1885000 (0.1842%)\n",
      "checking row: 1885100 (0.1867%)\n",
      "checking row: 1885200 (0.1892%)\n",
      "checking row: 1885300 (0.1917%)\n",
      "checking row: 1885400 (0.19419999999999998%)\n",
      "checking row: 1885500 (0.19669999999999999%)\n",
      "checking row: 1885600 (0.1992%)\n",
      "checking row: 1885700 (0.20170000000000002%)\n",
      "checking row: 1885800 (0.2042%)\n",
      "checking row: 1885900 (0.2067%)\n",
      "checking row: 1886000 (0.2092%)\n",
      "checking row: 1886100 (0.2117%)\n",
      "checking row: 1886200 (0.21419999999999997%)\n",
      "checking row: 1886300 (0.2167%)\n",
      "checking row: 1886400 (0.2192%)\n",
      "checking row: 1886500 (0.22169999999999998%)\n",
      "checking row: 1886600 (0.2242%)\n",
      "checking row: 1886700 (0.22669999999999998%)\n",
      "checking row: 1886800 (0.22920000000000001%)\n",
      "checking row: 1886900 (0.23170000000000002%)\n",
      "checking row: 1887000 (0.2342%)\n",
      "checking row: 1887100 (0.23670000000000002%)\n",
      "checking row: 1887200 (0.2392%)\n",
      "checking row: 1887300 (0.2417%)\n",
      "checking row: 1887400 (0.24420000000000003%)\n",
      "checking row: 1887500 (0.2467%)\n",
      "checking row: 1887600 (0.24919999999999998%)\n",
      "checking row: 1887700 (0.25170000000000003%)\n",
      "checking row: 1887800 (0.2542%)\n",
      "checking row: 1887900 (0.2567%)\n",
      "checking row: 1888000 (0.2592%)\n",
      "checking row: 1888100 (0.2617%)\n",
      "checking row: 1888200 (0.2642%)\n",
      "checking row: 1888300 (0.2667%)\n",
      "checking row: 1888400 (0.2692%)\n",
      "checking row: 1888500 (0.2717%)\n",
      "checking row: 1888600 (0.2742%)\n",
      "checking row: 1888700 (0.2767%)\n",
      "checking row: 1888800 (0.2792%)\n",
      "checking row: 1888900 (0.2817%)\n",
      "checking row: 1889000 (0.2842%)\n",
      "checking row: 1889100 (0.2867%)\n",
      "checking row: 1889200 (0.2892%)\n",
      "checking row: 1889300 (0.2917%)\n",
      "checking row: 1889400 (0.2942%)\n",
      "checking row: 1889500 (0.2967%)\n",
      "checking row: 1889600 (0.29919999999999997%)\n",
      "checking row: 1889700 (0.3017%)\n",
      "checking row: 1889800 (0.3042%)\n",
      "checking row: 1889900 (0.3067%)\n",
      "checking row: 1890000 (0.30920000000000003%)\n",
      "checking row: 1890100 (0.3117%)\n",
      "checking row: 1890200 (0.3142%)\n",
      "checking row: 1890300 (0.31670000000000004%)\n",
      "checking row: 1890400 (0.3192%)\n",
      "checking row: 1890500 (0.3217%)\n",
      "checking row: 1890600 (0.3242%)\n",
      "checking row: 1890700 (0.3267%)\n",
      "checking row: 1890800 (0.3292%)\n",
      "checking row: 1890900 (0.3317%)\n",
      "checking row: 1891000 (0.3342%)\n",
      "checking row: 1891100 (0.3367%)\n",
      "checking row: 1891200 (0.3392%)\n",
      "checking row: 1891300 (0.3417%)\n",
      "checking row: 1891400 (0.3442%)\n",
      "checking row: 1891500 (0.3467%)\n",
      "checking row: 1891600 (0.3492%)\n",
      "checking row: 1891700 (0.3517%)\n",
      "checking row: 1891800 (0.3542%)\n",
      "checking row: 1891900 (0.35669999999999996%)\n",
      "checking row: 1892000 (0.3592%)\n",
      "checking row: 1892100 (0.3617%)\n",
      "checking row: 1892200 (0.36419999999999997%)\n",
      "checking row: 1892300 (0.3667%)\n",
      "checking row: 1892400 (0.3692%)\n",
      "checking row: 1892500 (0.3717%)\n",
      "checking row: 1892600 (0.37420000000000003%)\n",
      "checking row: 1892700 (0.3767%)\n",
      "checking row: 1892800 (0.3792%)\n",
      "checking row: 1892900 (0.3817%)\n",
      "checking row: 1893000 (0.3842%)\n",
      "checking row: 1893100 (0.38670000000000004%)\n",
      "checking row: 1893200 (0.3892%)\n",
      "checking row: 1893300 (0.39170000000000005%)\n",
      "checking row: 1893400 (0.3942%)\n",
      "checking row: 1893500 (0.3967%)\n",
      "checking row: 1893600 (0.3992%)\n",
      "checking row: 1893700 (0.40169999999999995%)\n",
      "checking row: 1893800 (0.40419999999999995%)\n",
      "checking row: 1893900 (0.4067%)\n",
      "checking row: 1894000 (0.4092%)\n",
      "checking row: 1894100 (0.4117%)\n",
      "checking row: 1894200 (0.4142%)\n",
      "checking row: 1894300 (0.41669999999999996%)\n",
      "checking row: 1894400 (0.4192%)\n",
      "checking row: 1894500 (0.4217%)\n",
      "checking row: 1894600 (0.4242%)\n",
      "checking row: 1894700 (0.42669999999999997%)\n",
      "checking row: 1894800 (0.42919999999999997%)\n",
      "checking row: 1894900 (0.4317%)\n",
      "checking row: 1895000 (0.43420000000000003%)\n",
      "checking row: 1895100 (0.43670000000000003%)\n",
      "checking row: 1895200 (0.43920000000000003%)\n",
      "checking row: 1895300 (0.4417%)\n",
      "checking row: 1895400 (0.4442%)\n",
      "checking row: 1895500 (0.4467%)\n",
      "checking row: 1895600 (0.44920000000000004%)\n",
      "checking row: 1895700 (0.4517%)\n",
      "checking row: 1895800 (0.4542%)\n",
      "checking row: 1895900 (0.4567%)\n",
      "checking row: 1896000 (0.4592%)\n",
      "checking row: 1896100 (0.46169999999999994%)\n",
      "checking row: 1896200 (0.46420000000000006%)\n",
      "checking row: 1896300 (0.4667%)\n",
      "checking row: 1896400 (0.4692%)\n",
      "checking row: 1896500 (0.4717%)\n",
      "checking row: 1896600 (0.47419999999999995%)\n",
      "checking row: 1896700 (0.4767%)\n",
      "checking row: 1896800 (0.4792%)\n",
      "checking row: 1896900 (0.4817%)\n",
      "checking row: 1897000 (0.4842%)\n",
      "checking row: 1897100 (0.48669999999999997%)\n",
      "checking row: 1897200 (0.48919999999999997%)\n"
     ]
    },
    {
     "ename": "KeyboardInterrupt",
     "evalue": "",
     "output_type": "error",
     "traceback": [
      "\u001b[1;31m---------------------------------------------------------------------------\u001b[0m",
      "\u001b[1;31mKeyboardInterrupt\u001b[0m                         Traceback (most recent call last)",
      "\u001b[1;32m~\\AppData\\Local\\Temp/ipykernel_28244/2386390807.py\u001b[0m in \u001b[0;36m<module>\u001b[1;34m\u001b[0m\n\u001b[0;32m      2\u001b[0m \u001b[0mmax_idx\u001b[0m \u001b[1;33m=\u001b[0m \u001b[1;36m20\u001b[0m \u001b[1;31m# Example\u001b[0m\u001b[1;33m\u001b[0m\u001b[1;33m\u001b[0m\u001b[0m\n\u001b[0;32m      3\u001b[0m \u001b[0mmax_idx\u001b[0m \u001b[1;33m=\u001b[0m \u001b[1;36m4000000\u001b[0m \u001b[1;31m# Actual\u001b[0m\u001b[1;33m\u001b[0m\u001b[1;33m\u001b[0m\u001b[0m\n\u001b[1;32m----> 4\u001b[1;33m \u001b[0mgrid\u001b[0m\u001b[1;33m.\u001b[0m\u001b[0mfind_option\u001b[0m\u001b[1;33m(\u001b[0m\u001b[0mmax_idx\u001b[0m\u001b[1;33m)\u001b[0m\u001b[1;33m\u001b[0m\u001b[1;33m\u001b[0m\u001b[0m\n\u001b[0m",
      "\u001b[1;32m~\\AppData\\Local\\Temp/ipykernel_28244/1735510401.py\u001b[0m in \u001b[0;36mfind_option\u001b[1;34m(self, max_idx)\u001b[0m\n\u001b[0;32m    144\u001b[0m             \u001b[0mrow\u001b[0m \u001b[1;33m=\u001b[0m \u001b[0mself\u001b[0m\u001b[1;33m.\u001b[0m\u001b[0mcheck_row\u001b[0m\u001b[1;33m(\u001b[0m\u001b[0mrow_idx\u001b[0m\u001b[1;33m)\u001b[0m\u001b[1;33m[\u001b[0m\u001b[0mstart\u001b[0m\u001b[1;33m[\u001b[0m\u001b[1;36m1\u001b[0m\u001b[1;33m]\u001b[0m\u001b[1;33m:\u001b[0m\u001b[0mend\u001b[0m\u001b[1;33m[\u001b[0m\u001b[1;36m1\u001b[0m\u001b[1;33m]\u001b[0m\u001b[1;33m+\u001b[0m\u001b[1;36m1\u001b[0m\u001b[1;33m]\u001b[0m\u001b[1;33m\u001b[0m\u001b[1;33m\u001b[0m\u001b[0m\n\u001b[0;32m    145\u001b[0m             \u001b[1;31m# print(f'row: {row_idx}\\n{row}')\u001b[0m\u001b[1;33m\u001b[0m\u001b[1;33m\u001b[0m\u001b[0m\n\u001b[1;32m--> 146\u001b[1;33m             \u001b[0msearch\u001b[0m \u001b[1;33m=\u001b[0m \u001b[0mnp\u001b[0m\u001b[1;33m.\u001b[0m\u001b[0mwhere\u001b[0m\u001b[1;33m(\u001b[0m\u001b[0mrow\u001b[0m\u001b[1;33m==\u001b[0m\u001b[1;36m0\u001b[0m\u001b[1;33m)\u001b[0m\u001b[1;33m\u001b[0m\u001b[1;33m\u001b[0m\u001b[0m\n\u001b[0m\u001b[0;32m    147\u001b[0m             \u001b[1;32mif\u001b[0m \u001b[0mlen\u001b[0m\u001b[1;33m(\u001b[0m\u001b[0msearch\u001b[0m\u001b[1;33m[\u001b[0m\u001b[1;36m0\u001b[0m\u001b[1;33m]\u001b[0m\u001b[1;33m)\u001b[0m\u001b[1;33m:\u001b[0m\u001b[1;33m\u001b[0m\u001b[1;33m\u001b[0m\u001b[0m\n\u001b[0;32m    148\u001b[0m                 \u001b[0my\u001b[0m \u001b[1;33m=\u001b[0m \u001b[0mrow_idx\u001b[0m \u001b[1;33m+\u001b[0m \u001b[0mself\u001b[0m\u001b[1;33m.\u001b[0m\u001b[0mimin\u001b[0m\u001b[1;33m\u001b[0m\u001b[1;33m\u001b[0m\u001b[0m\n",
      "\u001b[1;32m<__array_function__ internals>\u001b[0m in \u001b[0;36mwhere\u001b[1;34m(*args, **kwargs)\u001b[0m\n",
      "\u001b[1;31mKeyboardInterrupt\u001b[0m: "
     ]
    }
   ],
   "source": [
    "grid = Grid()\n",
    "max_idx = 20 # Example\n",
    "max_idx = 4000000 # Actual\n",
    "grid.find_option(max_idx)\n"
   ]
  },
  {
   "cell_type": "code",
   "execution_count": 3,
   "metadata": {},
   "outputs": [],
   "source": [
    "grid = Grid()\n",
    "max_idx = 20 # Example\n",
    "# max_idx = 4000000 # Actual\n",
    "results = grid.find_option_parallel(max_idx)\n",
    "\n"
   ]
  },
  {
   "cell_type": "code",
   "execution_count": null,
   "metadata": {},
   "outputs": [],
   "source": []
  }
 ],
 "metadata": {
  "kernelspec": {
   "display_name": "Python 3.8.5 ('base')",
   "language": "python",
   "name": "python3"
  },
  "language_info": {
   "codemirror_mode": {
    "name": "ipython",
    "version": 3
   },
   "file_extension": ".py",
   "mimetype": "text/x-python",
   "name": "python",
   "nbconvert_exporter": "python",
   "pygments_lexer": "ipython3",
   "version": "3.9.7"
  },
  "orig_nbformat": 4,
  "vscode": {
   "interpreter": {
    "hash": "47ce790959d06f949a97dbfd06fd621572f81796024eefcf2465e31e88535f2a"
   }
  }
 },
 "nbformat": 4,
 "nbformat_minor": 2
}
