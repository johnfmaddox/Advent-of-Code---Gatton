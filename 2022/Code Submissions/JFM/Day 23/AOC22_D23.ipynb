{
 "cells": [
  {
   "cell_type": "markdown",
   "metadata": {},
   "source": [
    "**--- Part One ---**"
   ]
  },
  {
   "cell_type": "code",
   "execution_count": 98,
   "metadata": {},
   "outputs": [],
   "source": [
    "## Select input data case\n",
    "## Note: this assumes a plain textfile named `input_{case}` is located in the same folder as this notebook\n",
    "case = \"example\" # <- input_example\n",
    "case = \"jfm\"\n",
    "case = \"gatton\"\n",
    "\n",
    "# verbose output\n",
    "verbose = False\n",
    "\n",
    "import numpy as np\n",
    "from itertools import cycle\n",
    "\n",
    "# Read input\n",
    "with open(f'input_{case}','r') as f:\n",
    "    input_lines = f.readlines()\n",
    "\n",
    "import numpy as np\n",
    "\n",
    "dir_template = {0:'n',1:'s',2:'w',3:'e'}\n",
    "\n",
    "class Elf():\n",
    "    def __init__(self,pos,grid):\n",
    "        self.pos = np.array(pos)\n",
    "        self.reset_dirs()\n",
    "    \n",
    "    def next_dir(self):\n",
    "        self.dir = next(self.dirs)\n",
    "\n",
    "    def reset_dirs(self,dir='n'):\n",
    "        self.dirs = cycle(dir_template)\n",
    "        self.dir = next(self.dirs)\n",
    "    \n",
    "    def has_neighbor(self, grid):\n",
    "        i,j = self.pos\n",
    "        if sum(sum(grid[i-1:i+2,j-1:j+2]))-1:\n",
    "            return True\n",
    "        else:\n",
    "            return False\n",
    "\n",
    "    def propose_move(self, grid, dir=0):\n",
    "        if self.has_neighbor(grid):\n",
    "            i,j = self.pos\n",
    "            for idx in range(4):\n",
    "                if dir == 0: # North\n",
    "                    if not any(grid[i-1, j-1:j+2]):\n",
    "                        self.next_pos = self.pos + [-1,0]\n",
    "                        return self.next_pos\n",
    "                elif dir == 1: # South\n",
    "                    if not any(grid[i+1, j-1:j+2]):\n",
    "                        self.next_pos = self.pos + [1,0]               \n",
    "                        return self.next_pos\n",
    "                elif dir == 2: # West\n",
    "                    if not any(grid[i-1:i+2, j-1]):\n",
    "                        self.next_pos = self.pos + [0,-1]\n",
    "                        return self.next_pos\n",
    "                else: # East\n",
    "                    if not any(grid[i-1:i+2, j+1]):\n",
    "                        self.next_pos = self.pos + [0,1]\n",
    "                        return self.next_pos\n",
    "                dir = (dir+1) % 4\n",
    "        self.next_pos = self.pos\n",
    "        return self.next_pos\n",
    "\n",
    "\n",
    "class Grid():\n",
    "    def __init__(self):\n",
    "        conv_to_num = {'.':0, '#':1}\n",
    "        self.conv_to_sym = {0:'.', 1:'#'}\n",
    "        self.dir_iter = cycle([i for i in range(4)])\n",
    "        self.changed = True\n",
    "        self.round = 0\n",
    "        self.grid = np.array([[int(conv_to_num[i]) for i in row.strip()] for row in input_lines], dtype=int)\n",
    "        self.elves = []\n",
    "        for i,row in enumerate(self.grid):\n",
    "            for j,val in enumerate(row):\n",
    "                if val:\n",
    "                    self.elves.append(Elf([i,j], self.grid))\n",
    "        self.n_elves = len(self.elves)\n",
    "        self.grow()\n",
    "\n",
    "    def __getitem__(self,idx):\n",
    "        return self.grid[idx]\n",
    "\n",
    "    @property\n",
    "    def height(self):\n",
    "        return self.grid.shape[0]\n",
    "\n",
    "    @property\n",
    "    def width(self):\n",
    "        return self.grid.shape[1]\n",
    "\n",
    "    def execute_one_round(self,n = None, show=False):\n",
    "        self.round += 1\n",
    "        self.grow()\n",
    "        self.propose_all()\n",
    "        self.move_all()\n",
    "    \n",
    "    def execute_continuous(self):\n",
    "        while self.changed:\n",
    "            self.execute_one_round()\n",
    "\n",
    "    def move_all_elves(self, delta):\n",
    "        for e in self.elves:\n",
    "            e.pos = e.pos + delta\n",
    "    \n",
    "    def propose_all(self):\n",
    "        self.proposed = np.zeros(self.grid.shape)\n",
    "        self.changed = False\n",
    "        dir = next(self.dir_iter)\n",
    "        for e in self.elves:\n",
    "            old_pos = e.pos[:]\n",
    "            new_pos = e.propose_move(self.grid,dir=dir)\n",
    "            if not self.changed:\n",
    "                if (old_pos[0] != new_pos[0]) or (old_pos[1] != new_pos[1]):\n",
    "                    self.changed = True\n",
    "            self.proposed[tuple(new_pos)] += 1\n",
    "    \n",
    "    def move_all(self):\n",
    "        for e in self.elves:\n",
    "            if self.proposed[tuple(e.next_pos)] == 1:\n",
    "                self.grid[tuple(e.pos)] = 0\n",
    "                self.grid[tuple(e.next_pos)] = 1\n",
    "                e.pos = e.next_pos\n",
    "    \n",
    "    def trim(self):\n",
    "        idx0 = []\n",
    "        idx1 = []\n",
    "        for e in self.elves:\n",
    "            idx0.append(e.pos[0])\n",
    "            idx1.append(e.pos[1])\n",
    "        self.trimmed = self.grid[min(idx0):max(idx0)+1,min(idx1):max(idx1)+1]\n",
    "        return self.trimmed\n",
    "\n",
    "    def total(self):\n",
    "        self.trim()\n",
    "        nx,ny = self.trimmed.shape\n",
    "        return nx*ny-self.n_elves\n",
    "\n",
    "    def grow(self):\n",
    "        if any(self.grid[0,:]): # top\n",
    "            self.grid = np.vstack([np.zeros((1, self.width)), self.grid])\n",
    "            self.move_all_elves([1,0])\n",
    "        if any(self.grid[-1,:]): # bottom\n",
    "            self.grid = np.vstack([self.grid, np.zeros((1, self.width))])\n",
    "        if any(self.grid[:,0]): # left\n",
    "            self.grid = np.hstack([np.zeros((self.height, 1)), self.grid])\n",
    "            self.move_all_elves([0,1])\n",
    "        if any(self.grid[:,-1]): # bottom\n",
    "            self.grid = np.hstack([self.grid, np.zeros((self.height, 1))])\n",
    "\n",
    "    def show(self,grid=None):\n",
    "        grid = grid or self.grid\n",
    "        for row in self.grid:\n",
    "            print(''.join([self.conv_to_sym[i] for i in row]))\n",
    "            \n",
    "\n",
    "grid = Grid()"
   ]
  },
  {
   "cell_type": "code",
   "execution_count": 99,
   "metadata": {},
   "outputs": [
    {
     "name": "stdout",
     "output_type": "stream",
     "text": [
      "Total after 10 rounds: 3906\n"
     ]
    }
   ],
   "source": [
    "grid = Grid()\n",
    "for i in range(10):\n",
    "    grid.execute_one_round()\n",
    "print(f'Total after 10 rounds: {grid.total()}')"
   ]
  },
  {
   "cell_type": "markdown",
   "metadata": {},
   "source": [
    "**--- Part Two ---**"
   ]
  },
  {
   "cell_type": "code",
   "execution_count": 100,
   "metadata": {},
   "outputs": [
    {
     "name": "stdout",
     "output_type": "stream",
     "text": [
      "Finished moving after round: 895\n"
     ]
    }
   ],
   "source": [
    "grid = Grid()\n",
    "grid.execute_continuous()\n",
    "print(f'Finished moving after round: {grid.round}')"
   ]
  }
 ],
 "metadata": {
  "kernelspec": {
   "display_name": "Python 3.8.5 ('base')",
   "language": "python",
   "name": "python3"
  },
  "language_info": {
   "codemirror_mode": {
    "name": "ipython",
    "version": 3
   },
   "file_extension": ".py",
   "mimetype": "text/x-python",
   "name": "python",
   "nbconvert_exporter": "python",
   "pygments_lexer": "ipython3",
   "version": "3.8.5"
  },
  "orig_nbformat": 4,
  "vscode": {
   "interpreter": {
    "hash": "47ce790959d06f949a97dbfd06fd621572f81796024eefcf2465e31e88535f2a"
   }
  }
 },
 "nbformat": 4,
 "nbformat_minor": 2
}
