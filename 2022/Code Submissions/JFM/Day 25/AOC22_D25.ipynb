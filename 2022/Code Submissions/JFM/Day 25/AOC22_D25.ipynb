{
 "cells": [
  {
   "cell_type": "markdown",
   "metadata": {},
   "source": [
    "**--- Part One ---**"
   ]
  },
  {
   "cell_type": "code",
   "execution_count": 56,
   "metadata": {},
   "outputs": [
    {
     "name": "stdout",
     "output_type": "stream",
     "text": [
      "2-0-01==0-1=2212=100\n"
     ]
    }
   ],
   "source": [
    "## Select input data case\n",
    "## Note: this assumes a plain textfile named `input_{case}` is located in the same folder as this notebook\n",
    "case = \"example\" # <- input_example\n",
    "case = \"jfm\"\n",
    "case = \"gatton\"\n",
    "\n",
    "# verbose output\n",
    "verbose = False\n",
    "\n",
    "import numpy as np\n",
    "from itertools import cycle\n",
    "\n",
    "# Read input\n",
    "with open(f'input_{case}','r') as f:\n",
    "    input_lines = f.readlines()\n",
    "\n",
    "import numpy as np\n",
    "\n",
    "def snafu_to_int(s, base=5):\n",
    "    s_minus = s.replace('0','0').replace('1','0').replace('2','0').replace('=','2').replace('-','1')\n",
    "    s_plus = s.replace('=','0').replace('-','0')\n",
    "    result = int(s_plus, base) - int(s_minus, base)\n",
    "    return result\n",
    "\n",
    "def str_idx(s,idx,val):\n",
    "    result = s[:idx] + val \n",
    "    if len(result) < len(s):\n",
    "        result += s[idx+1:]\n",
    "    return result\n",
    "\n",
    "def int_to_snafu(i, base=5):\n",
    "    s = np.base_repr(i,base)\n",
    "    s_rev = s[::-1] + '0'\n",
    "    for idx,val in enumerate(s_rev):\n",
    "        val = s_rev[idx]\n",
    "        if val in ['3','4','5']:\n",
    "            s_rev = str_idx(s_rev, idx+1, str(int(s_rev[idx+1])+1))\n",
    "            if val == '3':\n",
    "                s_rev = str_idx(s_rev, idx, '=')\n",
    "            elif val == '4':\n",
    "                s_rev = str_idx(s_rev, idx, '-')\n",
    "            else:\n",
    "                s_rev = str_idx(s_rev, idx, '0')\n",
    "    if s_rev[-1] == '0':\n",
    "        s_rev = s_rev[:-1]\n",
    "    s_snafu = s_rev[::-1]\n",
    "    return s_snafu\n",
    "\n",
    "fuel = [snafu_to_int(l.strip()) for l in input_lines]\n",
    "print(int_to_snafu(sum(fuel)))\n"
   ]
  },
  {
   "cell_type": "markdown",
   "metadata": {},
   "source": [
    "**--- Part Two ---**"
   ]
  },
  {
   "cell_type": "code",
   "execution_count": null,
   "metadata": {},
   "outputs": [],
   "source": []
  }
 ],
 "metadata": {
  "kernelspec": {
   "display_name": "Python 3.8.5 ('base')",
   "language": "python",
   "name": "python3"
  },
  "language_info": {
   "codemirror_mode": {
    "name": "ipython",
    "version": 3
   },
   "file_extension": ".py",
   "mimetype": "text/x-python",
   "name": "python",
   "nbconvert_exporter": "python",
   "pygments_lexer": "ipython3",
   "version": "3.9.7"
  },
  "orig_nbformat": 4,
  "vscode": {
   "interpreter": {
    "hash": "47ce790959d06f949a97dbfd06fd621572f81796024eefcf2465e31e88535f2a"
   }
  }
 },
 "nbformat": 4,
 "nbformat_minor": 2
}
